{
 "cells": [
  {
   "cell_type": "markdown",
   "metadata": {},
   "source": [
    "# AC109 Project Modeling Results: Predicting the returns on Cryptocurrencies\n",
    "\n",
    "by Ali Dastjerdi, Angelina Massa, Sachin Mathur & Nate Stein\n",
    "\n",
    "### Supporting Libraries\n",
    "\n",
    "We outsourced some of the supporting code to other modules we wrote located in the main directory with the intent of having this notebook focus on the presentation of results. The supporting modules are:\n",
    "- `crypto_utils.py` contains the code we used to scrape and clean data from coinmarket.cap. It also contains the code used to wrangle/preprocess that data (saved in CSV files) into our design matrix. By separating the creation of the design matrix in its own `.py` file, we were also able to create unit tests to ensure the resulting figures match what we expected based on hand-calculated figures, which became increasingly important as we engineered more involved features.\n",
    "- `crypto_models.py` contains the code we used to iterate over multiple classification models and summarize the results in tabular form."
   ]
  },
  {
   "cell_type": "code",
   "execution_count": 40,
   "metadata": {},
   "outputs": [],
   "source": [
    "import crypto_utils as cryp\n",
    "import matplotlib.pyplot as plt\n",
    "import numpy as np\n",
    "import pandas as pd\n",
    "import seaborn as sns\n",
    "import sklearn.model_selection as model_selection\n",
    "import sklearn.metrics as metrics\n",
    "import time as time\n",
    "from xgboost import XGBRegressor\n",
    "\n",
    "from crypto_utils import fmt_date, print_update"
   ]
  },
  {
   "cell_type": "code",
   "execution_count": 2,
   "metadata": {},
   "outputs": [],
   "source": [
    "# Custom output options.\n",
    "\n",
    "np.set_printoptions(precision=4, suppress=True)\n",
    "pd.set_option('display.precision', 4)\n",
    "sns.set_style('white')\n",
    "plt.rcParams['axes.titlesize'] = 16\n",
    "plt.rcParams['axes.labelsize'] = 14\n",
    "plt.rcParams['xtick.labelsize'] = 12\n",
    "plt.rcParams['ytick.labelsize'] = 12\n",
    "plt.rcParams['figure.figsize'] = (10, 8)\n",
    "plt.rcParams['font.size'] = 14\n",
    "plt.rcParams['legend.fontsize'] = 12\n",
    "plt.rcParams['savefig.bbox'] = 'tight'\n",
    "plt.rcParams['savefig.pad_inches'] = 0.05\n",
    "%matplotlib inline"
   ]
  },
  {
   "cell_type": "code",
   "execution_count": 3,
   "metadata": {},
   "outputs": [],
   "source": [
    "RAND_STATE = 88"
   ]
  },
  {
   "cell_type": "markdown",
   "metadata": {},
   "source": [
    "## Construct Design Matrix\n",
    "\n",
    "We want the construction of the design matrix to be agile enough to allow us to easily change whether we include certain features, which cryptocurrency's price return we want to forecast, etc."
   ]
  },
  {
   "cell_type": "code",
   "execution_count": 4,
   "metadata": {},
   "outputs": [],
   "source": [
    "def get_data(x_cryptos, y_crypto, test_size, kwargs):\n",
    "    design = cryp.DesignMatrix(x_cryptos=x_cryptos, y_crypto=y_crypto, **kwargs)\n",
    "    X, Y = design.get_data(lag_indicator=True)\n",
    "    X_train, X_test, y_train, y_test = model_selection.train_test_split(\n",
    "        X, Y, test_size=test_size, random_state=RAND_STATE)\n",
    "    return X_train, X_test, y_train, y_test"
   ]
  },
  {
   "cell_type": "code",
   "execution_count": 5,
   "metadata": {},
   "outputs": [],
   "source": [
    "crypto_scope = ['ltc', 'xrp', 'xlm', 'eth', 'btc']\n",
    "\n",
    "# Store x cryptocurrencies and y crypto (the one we're forecasting)\n",
    "# in list of tuples.\n",
    "xy_crypto_pairs = []\n",
    "for y_crypto in crypto_scope:\n",
    "    x_cryptos = [c for c in crypto_scope if c != y_crypto]\n",
    "    xy_crypto_pairs.append((x_cryptos, y_crypto))"
   ]
  },
  {
   "cell_type": "markdown",
   "metadata": {},
   "source": [
    "# Modeling: Regression"
   ]
  },
  {
   "cell_type": "code",
   "execution_count": 6,
   "metadata": {},
   "outputs": [],
   "source": [
    "import scipy.stats as stats\n",
    "from sklearn.linear_model import LinearRegression, LassoCV\n",
    "from sklearn.model_selection import RandomizedSearchCV\n",
    "#from xgboost import XGBRegressor"
   ]
  },
  {
   "cell_type": "code",
   "execution_count": 7,
   "metadata": {},
   "outputs": [],
   "source": [
    "N_CROSSVAL = 3\n",
    "TEST_SIZE = 0.2"
   ]
  },
  {
   "cell_type": "markdown",
   "metadata": {},
   "source": [
    "### Baseline Model"
   ]
  },
  {
   "cell_type": "code",
   "execution_count": 8,
   "metadata": {},
   "outputs": [],
   "source": [
    "def evaluate_baseline_model(x_cryptos, y_crypto, kwargs):\n",
    "    \"\"\"Return MAE on test set.\"\"\"\n",
    "    X_train, X_test, y_train, y_test = get_data(x_cryptos, y_crypto, TEST_SIZE,\n",
    "                                                kwargs)\n",
    "    lr = LinearRegression().fit(X_train, y_train)\n",
    "    mae = metrics.mean_absolute_error(y_test, lr.predict(X_test))\n",
    "    return mae"
   ]
  },
  {
   "cell_type": "markdown",
   "metadata": {},
   "source": [
    "#### Determine optimal rolling window for measuring changes in price and volume\n",
    "\n",
    "Ultimately we want to determine which `n_rolling_volume`, `n_rolling_price` and `n_std_window` to use going forward, as it will influence our more advanced features."
   ]
  },
  {
   "cell_type": "code",
   "execution_count": 9,
   "metadata": {},
   "outputs": [],
   "source": [
    "def find_optimal_rolling_periods():\n",
    "    \"\"\"Iterates over many different rolling period windows and evaluates \n",
    "    MAE on test set.\n",
    "    \n",
    "    Notes: Takes ~18min to run.\n",
    "    \"\"\"\n",
    "    df_results = pd.DataFrame(columns=['y', 'mae', 'n_rolling_price', \n",
    "                                       'n_rolling_volume', 'n_std_window'])\n",
    "\n",
    "    params = {'n_rolling_price':None, 'n_rolling_volume':None,\n",
    "              'x_assets':[], 'n_std_window':None}\n",
    "\n",
    "    n_rolling_prices = range(1, 5)\n",
    "    n_rolling_volumes = range(1, 5)\n",
    "    n_std_windows = range(5, 60, 5)\n",
    "    \n",
    "    combo_total = len(n_rolling_prices) * len(n_rolling_volumes) * len(n_std_windows)\n",
    "    combo_count = 0\n",
    "    \n",
    "    t0 = time.time()\n",
    "    for n_price in n_rolling_prices:\n",
    "        for n_vol in n_rolling_volumes:\n",
    "            for n_std in n_std_windows:\n",
    "                combo_count += 1\n",
    "                print_update('Trying param combination {}/{}...'.format(\n",
    "                    combo_count, combo_total))\n",
    "                params['n_rolling_price'] = n_price\n",
    "                params['n_rolling_volume'] = n_vol\n",
    "                params['n_std_window'] = n_std\n",
    "                new_row = {'n_rolling_price': n_price,\n",
    "                           'n_rolling_volume': n_vol,\n",
    "                           'n_std_window': n_std}\n",
    "                for x_cryps, y_cryp in xy_crypto_pairs:\n",
    "                    new_row['y'] = y_cryp\n",
    "                    new_row['mae'] = evaluate_baseline_model(x_cryps, y_cryp, \n",
    "                                                             params)\n",
    "                    df_results = df_results.append(new_row, ignore_index=True)\n",
    "    print_update('Finished all parameter combinations in {:.2f} seconds.'.format(\n",
    "        time.time() - t0))\n",
    "    return df_results"
   ]
  },
  {
   "cell_type": "code",
   "execution_count": 10,
   "metadata": {},
   "outputs": [],
   "source": [
    "# avg_results = df_results.groupby(['n_rolling_price', 'n_rolling_volume', 'n_std_window']).mean()"
   ]
  },
  {
   "cell_type": "markdown",
   "metadata": {},
   "source": [
    "After iterating over many rolling window options in `find_optimal_rolling_periods()`, we can determine that the optimal parameters are:\n",
    "- `n_rolling_price`: 1\n",
    "- `n_rolling_volume`: 1\n",
    "- `n_std_window`: 10"
   ]
  },
  {
   "cell_type": "code",
   "execution_count": 24,
   "metadata": {},
   "outputs": [],
   "source": [
    "PARAMS = {'n_rolling_price':1, 'n_rolling_volume':1,\n",
    "          'x_assets':[], 'n_std_window':10}"
   ]
  },
  {
   "cell_type": "markdown",
   "metadata": {},
   "source": [
    "### Introduce Regularization"
   ]
  },
  {
   "cell_type": "code",
   "execution_count": 12,
   "metadata": {},
   "outputs": [],
   "source": [
    "def evaluate_lasso(x_cryptos, y_crypto):\n",
    "    \"\"\"Returns MAE and alpha from cross-validation after evaluating Lasso \n",
    "    regression on test set.\n",
    "    \"\"\"\n",
    "    X_train, X_test, y_train, y_test = get_data(x_cryptos, y_crypto, TEST_SIZE, \n",
    "                                                PARAMS)\n",
    "    lasso = LassoCV(n_alphas=100, cv=N_CROSSVAL, random_state=RAND_STATE)\n",
    "    lasso.fit(X_train, y_train)\n",
    "    mae = metrics.mean_absolute_error(y_test, lasso.predict(X_test))\n",
    "    return mae, lasso.alpha_, lasso, X_train"
   ]
  },
  {
   "cell_type": "code",
   "execution_count": 13,
   "metadata": {},
   "outputs": [],
   "source": [
    "df_lasso = pd.DataFrame(columns=['y', 'mae', 'alpha'])\n",
    "for x_cryps, y_cryp in xy_crypto_pairs:\n",
    "    mae, alpha, _, _ = evaluate_lasso(x_cryps, y_cryp)\n",
    "    new_row = {'y': y_cryp, 'mae': mae, 'alpha': alpha}\n",
    "    df_lasso = df_lasso.append(new_row, ignore_index=True)"
   ]
  },
  {
   "cell_type": "code",
   "execution_count": 14,
   "metadata": {},
   "outputs": [
    {
     "data": {
      "text/html": [
       "<div>\n",
       "<style scoped>\n",
       "    .dataframe tbody tr th:only-of-type {\n",
       "        vertical-align: middle;\n",
       "    }\n",
       "\n",
       "    .dataframe tbody tr th {\n",
       "        vertical-align: top;\n",
       "    }\n",
       "\n",
       "    .dataframe thead th {\n",
       "        text-align: right;\n",
       "    }\n",
       "</style>\n",
       "<table border=\"1\" class=\"dataframe\">\n",
       "  <thead>\n",
       "    <tr style=\"text-align: right;\">\n",
       "      <th></th>\n",
       "      <th>y</th>\n",
       "      <th>mae</th>\n",
       "      <th>alpha</th>\n",
       "    </tr>\n",
       "  </thead>\n",
       "  <tbody>\n",
       "    <tr>\n",
       "      <th>0</th>\n",
       "      <td>ltc</td>\n",
       "      <td>0.0368</td>\n",
       "      <td>0.0058</td>\n",
       "    </tr>\n",
       "    <tr>\n",
       "      <th>1</th>\n",
       "      <td>xrp</td>\n",
       "      <td>0.0434</td>\n",
       "      <td>0.0415</td>\n",
       "    </tr>\n",
       "    <tr>\n",
       "      <th>2</th>\n",
       "      <td>xlm</td>\n",
       "      <td>0.0627</td>\n",
       "      <td>0.0101</td>\n",
       "    </tr>\n",
       "    <tr>\n",
       "      <th>3</th>\n",
       "      <td>eth</td>\n",
       "      <td>0.0500</td>\n",
       "      <td>0.0066</td>\n",
       "    </tr>\n",
       "    <tr>\n",
       "      <th>4</th>\n",
       "      <td>btc</td>\n",
       "      <td>0.0282</td>\n",
       "      <td>0.0049</td>\n",
       "    </tr>\n",
       "  </tbody>\n",
       "</table>\n",
       "</div>"
      ],
      "text/plain": [
       "     y     mae   alpha\n",
       "0  ltc  0.0368  0.0058\n",
       "1  xrp  0.0434  0.0415\n",
       "2  xlm  0.0627  0.0101\n",
       "3  eth  0.0500  0.0066\n",
       "4  btc  0.0282  0.0049"
      ]
     },
     "metadata": {},
     "output_type": "display_data"
    }
   ],
   "source": [
    "display(df_lasso)"
   ]
  },
  {
   "cell_type": "code",
   "execution_count": 15,
   "metadata": {},
   "outputs": [],
   "source": [
    "def get_features_df(lasso, X_train):\n",
    "    df = pd.DataFrame(columns=['coeff', 'weight'])\n",
    "    df['coeff'] = X_train.columns.tolist()\n",
    "    df['weight'] = lasso.coef_\n",
    "    df.sort_values('weight', ascending=False, inplace=True)\n",
    "    df.set_index('coeff', inplace=True, drop=True)\n",
    "    return df"
   ]
  },
  {
   "cell_type": "code",
   "execution_count": 25,
   "metadata": {},
   "outputs": [
    {
     "data": {
      "text/html": [
       "<div>\n",
       "<style scoped>\n",
       "    .dataframe tbody tr th:only-of-type {\n",
       "        vertical-align: middle;\n",
       "    }\n",
       "\n",
       "    .dataframe tbody tr th {\n",
       "        vertical-align: top;\n",
       "    }\n",
       "\n",
       "    .dataframe thead th {\n",
       "        text-align: right;\n",
       "    }\n",
       "</style>\n",
       "<table border=\"1\" class=\"dataframe\">\n",
       "  <thead>\n",
       "    <tr style=\"text-align: right;\">\n",
       "      <th></th>\n",
       "      <th>weight</th>\n",
       "    </tr>\n",
       "    <tr>\n",
       "      <th>coeff</th>\n",
       "      <th></th>\n",
       "    </tr>\n",
       "  </thead>\n",
       "  <tbody>\n",
       "    <tr>\n",
       "      <th>ltc_px_std</th>\n",
       "      <td>0.0</td>\n",
       "    </tr>\n",
       "    <tr>\n",
       "      <th>ltc_volume_std</th>\n",
       "      <td>0.0</td>\n",
       "    </tr>\n",
       "    <tr>\n",
       "      <th>xrp_px_std</th>\n",
       "      <td>-0.0</td>\n",
       "    </tr>\n",
       "    <tr>\n",
       "      <th>xrp_volume_std</th>\n",
       "      <td>-0.0</td>\n",
       "    </tr>\n",
       "    <tr>\n",
       "      <th>xlm_px_std</th>\n",
       "      <td>-0.0</td>\n",
       "    </tr>\n",
       "    <tr>\n",
       "      <th>xlm_volume_std</th>\n",
       "      <td>-0.0</td>\n",
       "    </tr>\n",
       "    <tr>\n",
       "      <th>eth_px_std</th>\n",
       "      <td>-0.0</td>\n",
       "    </tr>\n",
       "    <tr>\n",
       "      <th>eth_volume_std</th>\n",
       "      <td>0.0</td>\n",
       "    </tr>\n",
       "    <tr>\n",
       "      <th>btc_px_std</th>\n",
       "      <td>0.0</td>\n",
       "    </tr>\n",
       "    <tr>\n",
       "      <th>btc_volume_std</th>\n",
       "      <td>0.0</td>\n",
       "    </tr>\n",
       "    <tr>\n",
       "      <th>lagged_others</th>\n",
       "      <td>-0.0</td>\n",
       "    </tr>\n",
       "  </tbody>\n",
       "</table>\n",
       "</div>"
      ],
      "text/plain": [
       "                weight\n",
       "coeff                 \n",
       "ltc_px_std         0.0\n",
       "ltc_volume_std     0.0\n",
       "xrp_px_std        -0.0\n",
       "xrp_volume_std    -0.0\n",
       "xlm_px_std        -0.0\n",
       "xlm_volume_std    -0.0\n",
       "eth_px_std        -0.0\n",
       "eth_volume_std     0.0\n",
       "btc_px_std         0.0\n",
       "btc_volume_std     0.0\n",
       "lagged_others     -0.0"
      ]
     },
     "metadata": {},
     "output_type": "display_data"
    }
   ],
   "source": [
    "# See what weights are assigned to features.\n",
    "\n",
    "_, _, lasso, X_train = evaluate_lasso(['ltc', 'xrp', 'xlm', 'eth'], 'btc')\n",
    "feature_weights = get_features_df(lasso, X_train)\n",
    "display(feature_weights)"
   ]
  },
  {
   "cell_type": "markdown",
   "metadata": {},
   "source": [
    "### XGBRegressor"
   ]
  },
  {
   "cell_type": "code",
   "execution_count": 41,
   "metadata": {},
   "outputs": [
    {
     "name": "stdout",
     "output_type": "stream",
     "text": [
      "['ltc_px_std', 'ltc_volume_std', 'xrp_px_std', 'xrp_volume_std', 'xlm_px_std', 'xlm_volume_std', 'eth_px_std', 'eth_volume_std', 'btc_px_std', 'btc_volume_std', 'lagged_others', 'crypto_phrase', 'sentiment']\n"
     ]
    }
   ],
   "source": [
    "X_train, X_test, y_train, y_test = get_data(['ltc', 'xrp', 'xlm', 'eth'], \n",
    "                                            'btc', TEST_SIZE, PARAMS)"
   ]
  },
  {
   "cell_type": "code",
   "execution_count": 42,
   "metadata": {},
   "outputs": [],
   "source": [
    "def build_xgb_model(X_train, y_train):\n",
    "    \"\"\"Iterate over a hyperparameter space and return best model on a \n",
    "    validation set reserved from input training data.\n",
    "    \"\"\"\n",
    "    # Define hyperparam space.\n",
    "    expon_distr = stats.expon(0, 50)\n",
    "    cv_params = {\n",
    "        'n_estimators': stats.randint(4, 100),\n",
    "        'max_depth': stats.randint(2, 100),\n",
    "        'learning_rate': stats.uniform(0.05, 0.95),\n",
    "        'gamma': stats.uniform(0, 10),\n",
    "        'reg_alpha': expon_distr,\n",
    "        'min_child_weight': expon_distr\n",
    "    }\n",
    "\n",
    "    # Iterate over hyperparam space.\n",
    "    xgb = XGBRegressor(nthreads=-1)  # nthreads=-1 => use max cores\n",
    "    \n",
    "    print_update('Tuning XGBRegressor hyperparams...')\n",
    "    t0 = time.time()\n",
    "    gs = RandomizedSearchCV(xgb, cv_params, n_iter=400, n_jobs=1, cv=3, \n",
    "                            random_state=88)\n",
    "    gs.fit(X_train, y_train)\n",
    "    print_update('Finished tuning XGBRegressor in {:.0f} secs.'.format(\n",
    "        time.time() - t0))\n",
    "    \n",
    "    return gs.best_estimator_"
   ]
  },
  {
   "cell_type": "code",
   "execution_count": 43,
   "metadata": {},
   "outputs": [
    {
     "name": "stdout",
     "output_type": "stream",
     "text": [
      "Finished tuning XGBRegressor in 17 secs.\r"
     ]
    }
   ],
   "source": [
    "xgb = build_xgb_model(X_train, y_train)"
   ]
  },
  {
   "cell_type": "code",
   "execution_count": 20,
   "metadata": {},
   "outputs": [
    {
     "name": "stdout",
     "output_type": "stream",
     "text": [
      "XGBRegressor MAE: 2.82%\n"
     ]
    }
   ],
   "source": [
    "mae_xgb = metrics.mean_absolute_error(y_test, xgb.predict(X_test))\n",
    "print('XGBRegressor MAE: {:.2%}'.format(mae_xgb))"
   ]
  },
  {
   "cell_type": "markdown",
   "metadata": {},
   "source": [
    "## News Feature"
   ]
  },
  {
   "cell_type": "code",
   "execution_count": null,
   "metadata": {},
   "outputs": [],
   "source": [
    "# Read in nyt news data\n",
    "news = pd.read_csv('NLP/data/nyt_data_sentiment.csv')\n",
    "# clean up dates\n",
    "news['date'] = pd.to_datetime(news['date'])\n",
    "# group by day and take average sentiment\n",
    "daily_news = news.groupby('date').mean()\n",
    "# add news to parameter list\n",
    "PARAMS = {'n_rolling_price':1, 'n_rolling_volume':1,\n",
    "          'x_assets':[], 'n_std_window':10, 'add_news': True, 'news': daily_news}"
   ]
  },
  {
   "cell_type": "code",
   "execution_count": 50,
   "metadata": {},
   "outputs": [
    {
     "name": "stdout",
     "output_type": "stream",
     "text": [
      "['xrp_px_std', 'xrp_volume_std', 'xlm_px_std', 'xlm_volume_std', 'eth_px_std', 'eth_volume_std', 'btc_px_std', 'btc_volume_std', 'ltc_px_std', 'ltc_volume_std', 'lagged_others', 'crypto_phrase', 'sentiment']\n",
      "['ltc_px_std', 'ltc_volume_std', 'xlm_px_std', 'xlm_volume_std', 'eth_px_std', 'eth_volume_std', 'btc_px_std', 'btc_volume_std', 'xrp_px_std', 'xrp_volume_std', 'lagged_others', 'crypto_phrase', 'sentiment']\n",
      "['ltc_px_std', 'ltc_volume_std', 'xrp_px_std', 'xrp_volume_std', 'eth_px_std', 'eth_volume_std', 'btc_px_std', 'btc_volume_std', 'xlm_px_std', 'xlm_volume_std', 'lagged_others', 'crypto_phrase', 'sentiment']\n",
      "['ltc_px_std', 'ltc_volume_std', 'xrp_px_std', 'xrp_volume_std', 'xlm_px_std', 'xlm_volume_std', 'btc_px_std', 'btc_volume_std', 'eth_px_std', 'eth_volume_std', 'lagged_others', 'crypto_phrase', 'sentiment']\n",
      "['ltc_px_std', 'ltc_volume_std', 'xrp_px_std', 'xrp_volume_std', 'xlm_px_std', 'xlm_volume_std', 'eth_px_std', 'eth_volume_std', 'btc_px_std', 'btc_volume_std', 'lagged_others', 'crypto_phrase', 'sentiment']\n"
     ]
    }
   ],
   "source": [
    "df_lasso = pd.DataFrame(columns=['y', 'mae', 'alpha'])\n",
    "for x_cryps, y_cryp in xy_crypto_pairs:\n",
    "    mae, alpha, _, _ = evaluate_lasso(x_cryps, y_cryp)\n",
    "    new_row = {'y': y_cryp, 'mae': mae, 'alpha': alpha}\n",
    "    df_lasso = df_lasso.append(new_row, ignore_index=True)"
   ]
  },
  {
   "cell_type": "code",
   "execution_count": 51,
   "metadata": {},
   "outputs": [
    {
     "data": {
      "text/html": [
       "<div>\n",
       "<style scoped>\n",
       "    .dataframe tbody tr th:only-of-type {\n",
       "        vertical-align: middle;\n",
       "    }\n",
       "\n",
       "    .dataframe tbody tr th {\n",
       "        vertical-align: top;\n",
       "    }\n",
       "\n",
       "    .dataframe thead th {\n",
       "        text-align: right;\n",
       "    }\n",
       "</style>\n",
       "<table border=\"1\" class=\"dataframe\">\n",
       "  <thead>\n",
       "    <tr style=\"text-align: right;\">\n",
       "      <th></th>\n",
       "      <th>y</th>\n",
       "      <th>mae</th>\n",
       "      <th>alpha</th>\n",
       "    </tr>\n",
       "  </thead>\n",
       "  <tbody>\n",
       "    <tr>\n",
       "      <th>0</th>\n",
       "      <td>ltc</td>\n",
       "      <td>0.0226</td>\n",
       "      <td>0.0051</td>\n",
       "    </tr>\n",
       "    <tr>\n",
       "      <th>1</th>\n",
       "      <td>xrp</td>\n",
       "      <td>0.0379</td>\n",
       "      <td>0.0012</td>\n",
       "    </tr>\n",
       "    <tr>\n",
       "      <th>2</th>\n",
       "      <td>xlm</td>\n",
       "      <td>0.0483</td>\n",
       "      <td>0.0122</td>\n",
       "    </tr>\n",
       "    <tr>\n",
       "      <th>3</th>\n",
       "      <td>eth</td>\n",
       "      <td>0.0491</td>\n",
       "      <td>0.0114</td>\n",
       "    </tr>\n",
       "    <tr>\n",
       "      <th>4</th>\n",
       "      <td>btc</td>\n",
       "      <td>0.0176</td>\n",
       "      <td>0.0033</td>\n",
       "    </tr>\n",
       "  </tbody>\n",
       "</table>\n",
       "</div>"
      ],
      "text/plain": [
       "     y     mae   alpha\n",
       "0  ltc  0.0226  0.0051\n",
       "1  xrp  0.0379  0.0012\n",
       "2  xlm  0.0483  0.0122\n",
       "3  eth  0.0491  0.0114\n",
       "4  btc  0.0176  0.0033"
      ]
     },
     "execution_count": 51,
     "metadata": {},
     "output_type": "execute_result"
    }
   ],
   "source": [
    "df_lasso"
   ]
  },
  {
   "cell_type": "code",
   "execution_count": 52,
   "metadata": {},
   "outputs": [
    {
     "name": "stdout",
     "output_type": "stream",
     "text": [
      "['ltc_px_std', 'ltc_volume_std', 'xrp_px_std', 'xrp_volume_std', 'xlm_px_std', 'xlm_volume_std', 'eth_px_std', 'eth_volume_std', 'btc_px_std', 'btc_volume_std', 'lagged_others', 'crypto_phrase', 'sentiment']\n",
      "Finished tuning XGBRegressor in 17 secs.\r"
     ]
    }
   ],
   "source": [
    "X_train, X_test, y_train, y_test = get_data(['ltc', 'xrp', 'xlm', 'eth'], \n",
    "                                            'btc', TEST_SIZE, PARAMS)\n",
    "xgb = build_xgb_model(X_train, y_train)"
   ]
  },
  {
   "cell_type": "code",
   "execution_count": 53,
   "metadata": {},
   "outputs": [
    {
     "name": "stdout",
     "output_type": "stream",
     "text": [
      "XGBRegressor MAE: 1.75%\n"
     ]
    }
   ],
   "source": [
    "mae_xgb = metrics.mean_absolute_error(y_test, xgb.predict(X_test))\n",
    "print('XGBRegressor MAE: {:.2%}'.format(mae_xgb))"
   ]
  },
  {
   "cell_type": "markdown",
   "metadata": {},
   "source": [
    "# Modeling: Classification"
   ]
  },
  {
   "cell_type": "code",
   "execution_count": 55,
   "metadata": {},
   "outputs": [],
   "source": [
    "import create_models\n",
    "# remove news feature for noe\n",
    "PARAMS['add_news'] = False"
   ]
  },
  {
   "cell_type": "code",
   "execution_count": 56,
   "metadata": {},
   "outputs": [],
   "source": [
    "def get_classification_data(thresh=0.01):\n",
    "    design = cryp.DesignMatrix(x_cryptos=x_cryptos, y_crypto=y_crypto, **PARAMS)\n",
    "    X, Y = design.get_data(lag_indicator=True, y_category=True,\n",
    "                           y_category_thresh=thresh)\n",
    "    return model_selection.train_test_split(X, Y, test_size=TEST_SIZE, \n",
    "                                            random_state=RAND_STATE)"
   ]
  },
  {
   "cell_type": "code",
   "execution_count": 57,
   "metadata": {},
   "outputs": [],
   "source": [
    "X_train, X_test, y_train, y_test = get_classification_data()"
   ]
  },
  {
   "cell_type": "code",
   "execution_count": 58,
   "metadata": {},
   "outputs": [
    {
     "name": "stdout",
     "output_type": "stream",
     "text": [
      "Training classification breakdown:\n",
      "\tBuy: 284 (37%)\n",
      "\tSell: 171 (22%)\n",
      "\tNeutral: 312 (41%)\n"
     ]
    }
   ],
   "source": [
    "buy_count = len(np.where(y_train == 1)[0])\n",
    "sell_count = len(np.where(y_train == -1)[0])\n",
    "hold_count = len(np.where(y_train == 0)[0])\n",
    "total = y_train.shape[0]\n",
    "print('Training classification breakdown:')\n",
    "print('\\tBuy: {0} ({1:.0%})'.format(buy_count, buy_count/total))\n",
    "print('\\tSell: {0} ({1:.0%})'.format(sell_count, sell_count/total))\n",
    "print('\\tNeutral: {0} ({1:.0%})'.format(hold_count, hold_count/total))"
   ]
  },
  {
   "cell_type": "code",
   "execution_count": 59,
   "metadata": {
    "scrolled": true
   },
   "outputs": [],
   "source": [
    "clf_perf = create_models.traditional_models(X_train, y_train, X_test, \n",
    "                                            y_test, pos_label=[1])"
   ]
  },
  {
   "cell_type": "code",
   "execution_count": 60,
   "metadata": {},
   "outputs": [],
   "source": [
    "# from sklearn.linear_model import LogisticRegressionCV\n",
    "\n",
    "# cvals = [1e-20, 1e-15, 1e-10, 1e-5, 1e-3, 1e-1, 1, 10, 100, 10000, 100000]\n",
    "# logregcv = LogisticRegressionCV(Cs=cvals, cv=5)\n",
    "# logregcv.fit(X_train, y_train)\n",
    "# yhat = logregcv.predict(X_test)\n",
    "# logreg_acc = metrics.accuracy_score(y_test, yhat)\n",
    "# fpr_log, tpr_log, thresholds = metrics.roc_curve(\n",
    "#           y_test, logregcv.predict_proba(X_test)[:, 1], pos_label=[1])\n",
    "# logreg_auc = metrics.auc(fpr_log, tpr_log)"
   ]
  },
  {
   "cell_type": "code",
   "execution_count": 61,
   "metadata": {},
   "outputs": [
    {
     "data": {
      "text/html": [
       "<div>\n",
       "<style scoped>\n",
       "    .dataframe tbody tr th:only-of-type {\n",
       "        vertical-align: middle;\n",
       "    }\n",
       "\n",
       "    .dataframe tbody tr th {\n",
       "        vertical-align: top;\n",
       "    }\n",
       "\n",
       "    .dataframe thead th {\n",
       "        text-align: right;\n",
       "    }\n",
       "</style>\n",
       "<table border=\"1\" class=\"dataframe\">\n",
       "  <thead>\n",
       "    <tr style=\"text-align: right;\">\n",
       "      <th></th>\n",
       "      <th>AUC</th>\n",
       "      <th>Accuracy</th>\n",
       "    </tr>\n",
       "  </thead>\n",
       "  <tbody>\n",
       "    <tr>\n",
       "      <th>LogReg</th>\n",
       "      <td>0.5124</td>\n",
       "      <td>0.2917</td>\n",
       "    </tr>\n",
       "    <tr>\n",
       "      <th>KNN</th>\n",
       "      <td>0.5349</td>\n",
       "      <td>0.3333</td>\n",
       "    </tr>\n",
       "    <tr>\n",
       "      <th>LDA</th>\n",
       "      <td>0.4790</td>\n",
       "      <td>0.3646</td>\n",
       "    </tr>\n",
       "    <tr>\n",
       "      <th>QDA</th>\n",
       "      <td>0.4165</td>\n",
       "      <td>0.3750</td>\n",
       "    </tr>\n",
       "    <tr>\n",
       "      <th>RandomForest</th>\n",
       "      <td>0.4145</td>\n",
       "      <td>0.4010</td>\n",
       "    </tr>\n",
       "    <tr>\n",
       "      <th>ADABoost</th>\n",
       "      <td>0.5220</td>\n",
       "      <td>0.3542</td>\n",
       "    </tr>\n",
       "    <tr>\n",
       "      <th>SVM</th>\n",
       "      <td>0.5106</td>\n",
       "      <td>0.3594</td>\n",
       "    </tr>\n",
       "  </tbody>\n",
       "</table>\n",
       "</div>"
      ],
      "text/plain": [
       "                 AUC  Accuracy\n",
       "LogReg        0.5124    0.2917\n",
       "KNN           0.5349    0.3333\n",
       "LDA           0.4790    0.3646\n",
       "QDA           0.4165    0.3750\n",
       "RandomForest  0.4145    0.4010\n",
       "ADABoost      0.5220    0.3542\n",
       "SVM           0.5106    0.3594"
      ]
     },
     "metadata": {},
     "output_type": "display_data"
    }
   ],
   "source": [
    "display(clf_perf)"
   ]
  },
  {
   "cell_type": "markdown",
   "metadata": {},
   "source": [
    "## News Feature"
   ]
  },
  {
   "cell_type": "code",
   "execution_count": 62,
   "metadata": {},
   "outputs": [],
   "source": [
    "PARAMS['add_news'] = True"
   ]
  },
  {
   "cell_type": "code",
   "execution_count": 63,
   "metadata": {},
   "outputs": [
    {
     "name": "stdout",
     "output_type": "stream",
     "text": [
      "['ltc_px_std', 'ltc_volume_std', 'xrp_px_std', 'xrp_volume_std', 'xlm_px_std', 'xlm_volume_std', 'eth_px_std', 'eth_volume_std', 'btc_px_std', 'btc_volume_std', 'lagged_others', 'crypto_phrase', 'sentiment']\n"
     ]
    }
   ],
   "source": [
    "X_train, X_test, y_train, y_test = get_classification_data()"
   ]
  },
  {
   "cell_type": "code",
   "execution_count": 64,
   "metadata": {},
   "outputs": [],
   "source": [
    "clf_perf = create_models.traditional_models(X_train, y_train, X_test, \n",
    "                                            y_test, pos_label=[1])"
   ]
  },
  {
   "cell_type": "code",
   "execution_count": 65,
   "metadata": {},
   "outputs": [
    {
     "data": {
      "text/html": [
       "<div>\n",
       "<style scoped>\n",
       "    .dataframe tbody tr th:only-of-type {\n",
       "        vertical-align: middle;\n",
       "    }\n",
       "\n",
       "    .dataframe tbody tr th {\n",
       "        vertical-align: top;\n",
       "    }\n",
       "\n",
       "    .dataframe thead th {\n",
       "        text-align: right;\n",
       "    }\n",
       "</style>\n",
       "<table border=\"1\" class=\"dataframe\">\n",
       "  <thead>\n",
       "    <tr style=\"text-align: right;\">\n",
       "      <th></th>\n",
       "      <th>AUC</th>\n",
       "      <th>Accuracy</th>\n",
       "    </tr>\n",
       "  </thead>\n",
       "  <tbody>\n",
       "    <tr>\n",
       "      <th>LogReg</th>\n",
       "      <td>0.4913</td>\n",
       "      <td>0.1825</td>\n",
       "    </tr>\n",
       "    <tr>\n",
       "      <th>KNN</th>\n",
       "      <td>0.5039</td>\n",
       "      <td>0.4745</td>\n",
       "    </tr>\n",
       "    <tr>\n",
       "      <th>LDA</th>\n",
       "      <td>0.5105</td>\n",
       "      <td>0.4745</td>\n",
       "    </tr>\n",
       "    <tr>\n",
       "      <th>QDA</th>\n",
       "      <td>0.5162</td>\n",
       "      <td>0.4161</td>\n",
       "    </tr>\n",
       "    <tr>\n",
       "      <th>RandomForest</th>\n",
       "      <td>0.4582</td>\n",
       "      <td>0.4672</td>\n",
       "    </tr>\n",
       "    <tr>\n",
       "      <th>ADABoost</th>\n",
       "      <td>0.5025</td>\n",
       "      <td>0.4672</td>\n",
       "    </tr>\n",
       "    <tr>\n",
       "      <th>SVM</th>\n",
       "      <td>0.5158</td>\n",
       "      <td>0.4672</td>\n",
       "    </tr>\n",
       "  </tbody>\n",
       "</table>\n",
       "</div>"
      ],
      "text/plain": [
       "                 AUC  Accuracy\n",
       "LogReg        0.4913    0.1825\n",
       "KNN           0.5039    0.4745\n",
       "LDA           0.5105    0.4745\n",
       "QDA           0.5162    0.4161\n",
       "RandomForest  0.4582    0.4672\n",
       "ADABoost      0.5025    0.4672\n",
       "SVM           0.5158    0.4672"
      ]
     },
     "metadata": {},
     "output_type": "display_data"
    }
   ],
   "source": [
    "display(clf_perf)"
   ]
  }
 ],
 "metadata": {
  "kernelspec": {
   "display_name": "Python 3",
   "language": "python",
   "name": "python3"
  },
  "language_info": {
   "codemirror_mode": {
    "name": "ipython",
    "version": 3
   },
   "file_extension": ".py",
   "mimetype": "text/x-python",
   "name": "python",
   "nbconvert_exporter": "python",
   "pygments_lexer": "ipython3",
   "version": "3.6.4"
  }
 },
 "nbformat": 4,
 "nbformat_minor": 2
}
