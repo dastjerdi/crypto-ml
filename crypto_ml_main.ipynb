{
 "cells": [
  {
   "cell_type": "markdown",
   "metadata": {},
   "source": [
    "# AC109 Project: Predicting the returns on Cryptocurrencies\n",
    "\n",
    "by Ali Dastjerdi, Angelina Massa, Sachin Mathur & Nate Stein"
   ]
  },
  {
   "cell_type": "code",
   "execution_count": 1,
   "metadata": {},
   "outputs": [],
   "source": [
    "import crypto_utils as crypu\n",
    "import datetime\n",
    "import matplotlib.dates as mdates\n",
    "import matplotlib.pyplot as plt\n",
    "import numpy as np\n",
    "import pandas as pd\n",
    "import seaborn as sns\n",
    "import sys\n",
    "\n",
    "from crypto_utils import fmt_date, print_update\n",
    "from sklearn.linear_model import LassoCV\n",
    "from sklearn.linear_model import LinearRegression\n",
    "from sklearn.linear_model import RidgeCV"
   ]
  },
  {
   "cell_type": "code",
   "execution_count": 10,
   "metadata": {},
   "outputs": [],
   "source": [
    "# Custom output options.\n",
    "\n",
    "np.set_printoptions(precision=4, suppress=True)\n",
    "pd.set_option('display.precision', 4)\n",
    "sns.set_style('white')\n",
    "plt.rcParams['axes.titlesize'] = 16\n",
    "plt.rcParams['axes.labelsize'] = 14\n",
    "plt.rcParams['xtick.labelsize'] = 12\n",
    "plt.rcParams['ytick.labelsize'] = 12\n",
    "plt.rcParams['figure.figsize'] = (10, 8)\n",
    "plt.rcParams['font.size'] = 14\n",
    "plt.rcParams['legend.fontsize'] = 12\n",
    "plt.rcParams['savefig.bbox'] = 'tight'\n",
    "plt.rcParams['savefig.pad_inches'] = 0.05\n",
    "%matplotlib inline"
   ]
  },
  {
   "cell_type": "code",
   "execution_count": 3,
   "metadata": {},
   "outputs": [],
   "source": [
    "x_cryptos = ['ltc', 'xrp', 'xlm', 'eth']\n",
    "n_rolling_price = 1\n",
    "n_rolling_volume = 2\n",
    "y_crypto = 'btc'\n",
    "x_assets = ['SP500']\n",
    "dm = crypu.DesignMatrix(\n",
    "    x_cryptos=x_cryptos, y_crypto=y_crypto, x_assets=x_assets,\n",
    "    n_rolling_price=n_rolling_price, n_rolling_volume=n_rolling_volume)"
   ]
  },
  {
   "cell_type": "code",
   "execution_count": 4,
   "metadata": {},
   "outputs": [],
   "source": [
    "dm.load_time_series()\n",
    "df = dm.df.copy()"
   ]
  },
  {
   "cell_type": "code",
   "execution_count": 5,
   "metadata": {},
   "outputs": [
    {
     "data": {
      "text/html": [
       "<div>\n",
       "<style scoped>\n",
       "    .dataframe tbody tr th:only-of-type {\n",
       "        vertical-align: middle;\n",
       "    }\n",
       "\n",
       "    .dataframe tbody tr th {\n",
       "        vertical-align: top;\n",
       "    }\n",
       "\n",
       "    .dataframe thead th {\n",
       "        text-align: right;\n",
       "    }\n",
       "</style>\n",
       "<table border=\"1\" class=\"dataframe\">\n",
       "  <thead>\n",
       "    <tr style=\"text-align: right;\">\n",
       "      <th></th>\n",
       "      <th>ltc</th>\n",
       "      <th>ltc_volume</th>\n",
       "      <th>xrp</th>\n",
       "      <th>xrp_volume</th>\n",
       "      <th>xlm</th>\n",
       "      <th>xlm_volume</th>\n",
       "      <th>eth</th>\n",
       "      <th>eth_volume</th>\n",
       "      <th>btc</th>\n",
       "      <th>btc_volume</th>\n",
       "      <th>SP500</th>\n",
       "    </tr>\n",
       "  </thead>\n",
       "  <tbody>\n",
       "    <tr>\n",
       "      <th>2015-08-08</th>\n",
       "      <td>-0.086</td>\n",
       "      <td>0.268</td>\n",
       "      <td>0.040</td>\n",
       "      <td>0.806</td>\n",
       "      <td>-0.005</td>\n",
       "      <td>2.136</td>\n",
       "      <td>-0.728</td>\n",
       "      <td>0.000</td>\n",
       "      <td>-0.066</td>\n",
       "      <td>2.115</td>\n",
       "      <td>-2.875e-03</td>\n",
       "    </tr>\n",
       "    <tr>\n",
       "      <th>2015-08-09</th>\n",
       "      <td>0.013</td>\n",
       "      <td>-0.269</td>\n",
       "      <td>0.039</td>\n",
       "      <td>0.463</td>\n",
       "      <td>-0.031</td>\n",
       "      <td>2.159</td>\n",
       "      <td>-0.068</td>\n",
       "      <td>2.238</td>\n",
       "      <td>0.016</td>\n",
       "      <td>-0.440</td>\n",
       "      <td>-2.875e-03</td>\n",
       "    </tr>\n",
       "    <tr>\n",
       "      <th>2015-08-10</th>\n",
       "      <td>0.013</td>\n",
       "      <td>-0.545</td>\n",
       "      <td>-0.007</td>\n",
       "      <td>-0.303</td>\n",
       "      <td>0.052</td>\n",
       "      <td>-0.224</td>\n",
       "      <td>0.009</td>\n",
       "      <td>-0.399</td>\n",
       "      <td>-0.002</td>\n",
       "      <td>-0.642</td>\n",
       "      <td>1.281e-02</td>\n",
       "    </tr>\n",
       "    <tr>\n",
       "      <th>2015-08-11</th>\n",
       "      <td>0.053</td>\n",
       "      <td>0.118</td>\n",
       "      <td>-0.018</td>\n",
       "      <td>-0.469</td>\n",
       "      <td>-0.028</td>\n",
       "      <td>-0.441</td>\n",
       "      <td>0.510</td>\n",
       "      <td>1.749</td>\n",
       "      <td>0.022</td>\n",
       "      <td>0.069</td>\n",
       "      <td>-9.557e-03</td>\n",
       "    </tr>\n",
       "    <tr>\n",
       "      <th>2015-08-12</th>\n",
       "      <td>-0.041</td>\n",
       "      <td>0.571</td>\n",
       "      <td>-0.037</td>\n",
       "      <td>-0.392</td>\n",
       "      <td>-0.008</td>\n",
       "      <td>0.233</td>\n",
       "      <td>0.140</td>\n",
       "      <td>4.306</td>\n",
       "      <td>-0.015</td>\n",
       "      <td>0.278</td>\n",
       "      <td>9.501e-04</td>\n",
       "    </tr>\n",
       "  </tbody>\n",
       "</table>\n",
       "</div>"
      ],
      "text/plain": [
       "              ltc  ltc_volume    xrp  xrp_volume    xlm  xlm_volume    eth  \\\n",
       "2015-08-08 -0.086       0.268  0.040       0.806 -0.005       2.136 -0.728   \n",
       "2015-08-09  0.013      -0.269  0.039       0.463 -0.031       2.159 -0.068   \n",
       "2015-08-10  0.013      -0.545 -0.007      -0.303  0.052      -0.224  0.009   \n",
       "2015-08-11  0.053       0.118 -0.018      -0.469 -0.028      -0.441  0.510   \n",
       "2015-08-12 -0.041       0.571 -0.037      -0.392 -0.008       0.233  0.140   \n",
       "\n",
       "            eth_volume    btc  btc_volume      SP500  \n",
       "2015-08-08       0.000 -0.066       2.115 -2.875e-03  \n",
       "2015-08-09       2.238  0.016      -0.440 -2.875e-03  \n",
       "2015-08-10      -0.399 -0.002      -0.642  1.281e-02  \n",
       "2015-08-11       1.749  0.022       0.069 -9.557e-03  \n",
       "2015-08-12       4.306 -0.015       0.278  9.501e-04  "
      ]
     },
     "execution_count": 5,
     "metadata": {},
     "output_type": "execute_result"
    }
   ],
   "source": [
    "df.head()"
   ]
  },
  {
   "cell_type": "code",
   "execution_count": 32,
   "metadata": {},
   "outputs": [
    {
     "name": "stdout",
     "output_type": "stream",
     "text": [
      "Recent: 20.0\n",
      "Nonrecent: [  0.   1.   2.   3.   4.   5.   6.   7.   8.   9.  10.  11.  12.  13.  14.\n",
      "  15.  16.  17.  18.  19.]\n",
      "Recent: 21.0\n",
      "Nonrecent: [  1.   2.   3.   4.   5.   6.   7.   8.   9.  10.  11.  12.  13.  14.  15.\n",
      "  16.  17.  18.  19.  20.]\n",
      "Recent: 22.0\n",
      "Nonrecent: [  2.   3.   4.   5.   6.   7.   8.   9.  10.  11.  12.  13.  14.  15.  16.\n",
      "  17.  18.  19.  20.  21.]\n"
     ]
    }
   ],
   "source": [
    "GLOBAL_TEST = 0\n",
    "\n",
    "def roll_func(x):\n",
    "    recent_q = x[-1]\n",
    "    nonrecent_q = x[0:-1]\n",
    "    global GLOBAL_TEST\n",
    "    if GLOBAL_TEST <= 2:\n",
    "        print('Recent: {}'.format(recent_q))\n",
    "        print('Nonrecent: {}'.format(nonrecent_q))\n",
    "    GLOBAL_TEST += 1\n",
    "    return recent_q / sum(nonrecent_q)\n",
    "    \n",
    "#df['ltc_ma'] = df['ltc'].shift(1).rolling(window=20).mean()\n",
    "#df_calc = df.shift(1).rolling(window=20).mean()\n",
    "df['qtest_ma'] = df['qtest'].rolling(window=21).apply(roll_func)"
   ]
  },
  {
   "cell_type": "code",
   "execution_count": 33,
   "metadata": {},
   "outputs": [
    {
     "data": {
      "text/plain": [
       "ltc           -0.0070\n",
       "ltc_volume    -0.0811\n",
       "xrp           -0.0088\n",
       "xrp_volume    -0.0169\n",
       "xlm           -0.0177\n",
       "xlm_volume    -0.8945\n",
       "eth           -0.0074\n",
       "eth_volume    -0.4177\n",
       "btc           -0.0084\n",
       "btc_volume     0.0599\n",
       "SP500         -0.0296\n",
       "ltc_ma         1.0000\n",
       "qtest         24.0000\n",
       "qtest_ma       0.0889\n",
       "Name: 2015-09-01 00:00:00, dtype: float64"
      ]
     },
     "execution_count": 33,
     "metadata": {},
     "output_type": "execute_result"
    }
   ],
   "source": [
    "test_idx = pd.to_datetime('9/1/2015')\n",
    "df.loc[test_idx]"
   ]
  },
  {
   "cell_type": "code",
   "execution_count": 26,
   "metadata": {},
   "outputs": [],
   "source": [
    "df['qtest'] = range(df.shape[0])"
   ]
  },
  {
   "cell_type": "code",
   "execution_count": null,
   "metadata": {},
   "outputs": [],
   "source": []
  }
 ],
 "metadata": {
  "kernelspec": {
   "display_name": "Python 3",
   "language": "python",
   "name": "python3"
  },
  "language_info": {
   "codemirror_mode": {
    "name": "ipython",
    "version": 3
   },
   "file_extension": ".py",
   "mimetype": "text/x-python",
   "name": "python",
   "nbconvert_exporter": "python",
   "pygments_lexer": "ipython3",
   "version": "3.5.2"
  }
 },
 "nbformat": 4,
 "nbformat_minor": 2
}
