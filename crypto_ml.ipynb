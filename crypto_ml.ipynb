{
 "cells": [
  {
   "attachments": {},
   "cell_type": "markdown",
   "metadata": {},
   "source": [
    "# AC209 Project: Predicting the returns on Cryptocurrencies\n",
    "\n",
    "by Ali Dastjerdi, Angelina Massa, Sachin Mathur & Nate Stein\n",
    "\n",
    "### Project Goal\n",
    "\n",
    "To predict the price return of one cryptocurrency based on the returns of other cryptocurrencies; market data, including equity indices and other benchmarks; and cryptocurrency news.\n",
    "\n",
    "### Work Load\n",
    "\n",
    "1. Creating basic data pipelines and evaluating different model possibilities.\n",
    "2. Using NLP techniques to convert unstructured news data concerning cryptocurrencies into features that can be fed into model.\n",
    "\n",
    "### Cryptocurrency Scope\n",
    "\n",
    "We focus on cryptocurrencies that have data going back to 2015 or earlier so we have more data points: btc, ltc, xrp, xlm, eth.\n",
    "\n",
    "**SOUND FAIR?**\n",
    "\n",
    "#### Earliest date data available\n",
    "For top 10 cryptocurrencies in terms of market-cap, the following dates are the earliest dates closing price data is available:\n",
    "\n",
    "    btc\t4/28/2013\n",
    "    ltc\t4/28/2013\n",
    "    xrp\t8/4/2013\n",
    "    xlm\t8/5/2014\n",
    "    eth\t8/7/2015\n",
    "    neo\t9/9/2016\n",
    "    miota\t6/13/2017\n",
    "    eos\t7/1/2017\n",
    "    bch\t7/23/2017\n",
    "    ada\t10/1/2017"
   ]
  },
  {
   "cell_type": "code",
   "execution_count": 1,
   "metadata": {},
   "outputs": [],
   "source": [
    "import crypto_utils as crypu\n",
    "import matplotlib.pyplot as plt\n",
    "import numpy as np\n",
    "import pandas as pd\n",
    "import seaborn as sns\n",
    "import sys\n",
    "\n",
    "from crypto_utils import print_update"
   ]
  },
  {
   "cell_type": "code",
   "execution_count": 2,
   "metadata": {},
   "outputs": [],
   "source": [
    "# Custom output options.\n",
    "\n",
    "np.set_printoptions(precision=3, suppress=True)\n",
    "pd.set_option('display.precision', 3)\n",
    "sns.set_style('whitegrid')\n",
    "sns.set_context('paper')\n",
    "plt.rcParams['figure.figsize'] = 8, 5 # default 6x4\n",
    "%matplotlib inline"
   ]
  },
  {
   "cell_type": "markdown",
   "metadata": {},
   "source": [
    "# EDA"
   ]
  },
  {
   "cell_type": "code",
   "execution_count": 3,
   "metadata": {},
   "outputs": [],
   "source": [
    "# Load daily rolling-returns matrix.\n",
    "\n",
    "CRYPTO_SCOPE = ['btc', 'ltc', 'xrp', 'xlm', 'eth']\n",
    "\n",
    "tdelta = pd.Timedelta(days=1)  # for rolling daily returns\n",
    "end_date = pd.to_datetime('3/31/2018')\n",
    "crypto_df = crypu.load_returns_matrix (CRYPTO_SCOPE, end_date=end_date, \n",
    "                                       tdelta=tdelta, center=True, scale=True)"
   ]
  },
  {
   "cell_type": "code",
   "execution_count": 4,
   "metadata": {},
   "outputs": [
    {
     "name": "stdout",
     "output_type": "stream",
     "text": [
      "Data for individual currencies available as of:\n",
      "\teth: 08/07/2015\n",
      "\tltc: 04/28/2013\n",
      "\tbtc: 04/28/2013\n",
      "\txlm: 08/05/2014\n",
      "\txrp: 08/04/2013\n"
     ]
    },
    {
     "data": {
      "text/html": [
       "<div>\n",
       "<style scoped>\n",
       "    .dataframe tbody tr th:only-of-type {\n",
       "        vertical-align: middle;\n",
       "    }\n",
       "\n",
       "    .dataframe tbody tr th {\n",
       "        vertical-align: top;\n",
       "    }\n",
       "\n",
       "    .dataframe thead th {\n",
       "        text-align: right;\n",
       "    }\n",
       "</style>\n",
       "<table border=\"1\" class=\"dataframe\">\n",
       "  <thead>\n",
       "    <tr style=\"text-align: right;\">\n",
       "      <th></th>\n",
       "      <th>btc</th>\n",
       "      <th>ltc</th>\n",
       "      <th>xrp</th>\n",
       "      <th>xlm</th>\n",
       "      <th>eth</th>\n",
       "    </tr>\n",
       "    <tr>\n",
       "      <th>date</th>\n",
       "      <th></th>\n",
       "      <th></th>\n",
       "      <th></th>\n",
       "      <th></th>\n",
       "      <th></th>\n",
       "    </tr>\n",
       "  </thead>\n",
       "  <tbody>\n",
       "    <tr>\n",
       "      <th>2015-08-08</th>\n",
       "      <td>-1.707</td>\n",
       "      <td>-1.426</td>\n",
       "      <td>0.326</td>\n",
       "      <td>-0.140</td>\n",
       "      <td>-9.351</td>\n",
       "    </tr>\n",
       "    <tr>\n",
       "      <th>2015-08-09</th>\n",
       "      <td>0.277</td>\n",
       "      <td>0.121</td>\n",
       "      <td>0.320</td>\n",
       "      <td>-0.386</td>\n",
       "      <td>-0.974</td>\n",
       "    </tr>\n",
       "    <tr>\n",
       "      <th>2015-08-10</th>\n",
       "      <td>-0.157</td>\n",
       "      <td>0.118</td>\n",
       "      <td>-0.148</td>\n",
       "      <td>0.416</td>\n",
       "      <td>0.011</td>\n",
       "    </tr>\n",
       "    <tr>\n",
       "      <th>2015-08-11</th>\n",
       "      <td>0.440</td>\n",
       "      <td>0.752</td>\n",
       "      <td>-0.266</td>\n",
       "      <td>-0.357</td>\n",
       "      <td>6.373</td>\n",
       "    </tr>\n",
       "    <tr>\n",
       "      <th>2015-08-12</th>\n",
       "      <td>-0.460</td>\n",
       "      <td>-0.725</td>\n",
       "      <td>-0.461</td>\n",
       "      <td>-0.161</td>\n",
       "      <td>1.673</td>\n",
       "    </tr>\n",
       "  </tbody>\n",
       "</table>\n",
       "</div>"
      ],
      "text/plain": [
       "              btc    ltc    xrp    xlm    eth\n",
       "date                                         \n",
       "2015-08-08 -1.707 -1.426  0.326 -0.140 -9.351\n",
       "2015-08-09  0.277  0.121  0.320 -0.386 -0.974\n",
       "2015-08-10 -0.157  0.118 -0.148  0.416  0.011\n",
       "2015-08-11  0.440  0.752 -0.266 -0.357  6.373\n",
       "2015-08-12 -0.460 -0.725 -0.461 -0.161  1.673"
      ]
     },
     "execution_count": 4,
     "metadata": {},
     "output_type": "execute_result"
    }
   ],
   "source": [
    "print('Data for individual currencies available as of:')\n",
    "for crypto, min_date in crypu.crypto_min_dates.items():\n",
    "    print('\\t{0}: {1}'.format(crypto, min_date.strftime(\"%m/%d/%Y\")))\n",
    "\n",
    "crypto_df.head()"
   ]
  },
  {
   "cell_type": "markdown",
   "metadata": {},
   "source": [
    "# Prepare model data\n",
    "\n",
    "#### Definition of rolling returns\n",
    "\n",
    "We aim to One cryptocurrency's return will be the $Y$ value while the other currencies' returns will be the $X$.\n",
    "\n",
    "In below example, `btc` is the cryptocurrency whose price return we try to predict. Therefore, one example of row in our training data would contain:\n",
    "- Index: 3/30/2018\n",
    "- $Y$: `btc`'s percentage change in `close` price from 3/29/2018 -> 3/30/2018.\n",
    "- $X$: The other cryptocurrencies' percentage change in `close` price from 3/28/2018 -> 3/29/2018.\n",
    "\n",
    "i.e., we want to use the rolling returns from the other cryptocurrencies on 3/29/2018 to predict the return of `btc` on the next day (3/30/2018).\n",
    "\n",
    "For example, the price return for `eth` on original frame at 10/3/2017 was equal to $-0.329$. After shifting the returns forward one day in the following code, the price return for `eth` on 10/3/2017 becomes $-0.316$, the value for 10/2/2017 in the previous DF. "
   ]
  },
  {
   "cell_type": "code",
   "execution_count": 5,
   "metadata": {},
   "outputs": [
    {
     "data": {
      "text/html": [
       "<div>\n",
       "<style scoped>\n",
       "    .dataframe tbody tr th:only-of-type {\n",
       "        vertical-align: middle;\n",
       "    }\n",
       "\n",
       "    .dataframe tbody tr th {\n",
       "        vertical-align: top;\n",
       "    }\n",
       "\n",
       "    .dataframe thead th {\n",
       "        text-align: right;\n",
       "    }\n",
       "</style>\n",
       "<table border=\"1\" class=\"dataframe\">\n",
       "  <thead>\n",
       "    <tr style=\"text-align: right;\">\n",
       "      <th></th>\n",
       "      <th>btc</th>\n",
       "      <th>ltc</th>\n",
       "      <th>xrp</th>\n",
       "      <th>xlm</th>\n",
       "      <th>eth</th>\n",
       "    </tr>\n",
       "    <tr>\n",
       "      <th>date</th>\n",
       "      <th></th>\n",
       "      <th></th>\n",
       "      <th></th>\n",
       "      <th></th>\n",
       "      <th></th>\n",
       "    </tr>\n",
       "  </thead>\n",
       "  <tbody>\n",
       "    <tr>\n",
       "      <th>2015-08-09</th>\n",
       "      <td>0.277</td>\n",
       "      <td>-1.426</td>\n",
       "      <td>0.326</td>\n",
       "      <td>-0.140</td>\n",
       "      <td>-9.351</td>\n",
       "    </tr>\n",
       "    <tr>\n",
       "      <th>2015-08-10</th>\n",
       "      <td>-0.157</td>\n",
       "      <td>0.121</td>\n",
       "      <td>0.320</td>\n",
       "      <td>-0.386</td>\n",
       "      <td>-0.974</td>\n",
       "    </tr>\n",
       "    <tr>\n",
       "      <th>2015-08-11</th>\n",
       "      <td>0.440</td>\n",
       "      <td>0.118</td>\n",
       "      <td>-0.148</td>\n",
       "      <td>0.416</td>\n",
       "      <td>0.011</td>\n",
       "    </tr>\n",
       "    <tr>\n",
       "      <th>2015-08-12</th>\n",
       "      <td>-0.460</td>\n",
       "      <td>0.752</td>\n",
       "      <td>-0.266</td>\n",
       "      <td>-0.357</td>\n",
       "      <td>6.373</td>\n",
       "    </tr>\n",
       "    <tr>\n",
       "      <th>2015-08-13</th>\n",
       "      <td>-0.310</td>\n",
       "      <td>-0.725</td>\n",
       "      <td>-0.461</td>\n",
       "      <td>-0.161</td>\n",
       "      <td>1.673</td>\n",
       "    </tr>\n",
       "  </tbody>\n",
       "</table>\n",
       "</div>"
      ],
      "text/plain": [
       "              btc    ltc    xrp    xlm    eth\n",
       "date                                         \n",
       "2015-08-09  0.277 -1.426  0.326 -0.140 -9.351\n",
       "2015-08-10 -0.157  0.121  0.320 -0.386 -0.974\n",
       "2015-08-11  0.440  0.118 -0.148  0.416  0.011\n",
       "2015-08-12 -0.460  0.752 -0.266 -0.357  6.373\n",
       "2015-08-13 -0.310 -0.725 -0.461 -0.161  1.673"
      ]
     },
     "execution_count": 5,
     "metadata": {},
     "output_type": "execute_result"
    }
   ],
   "source": [
    "y_currency = 'btc'  # crypto whose return we want to predict\n",
    "x_currencies = [c for c in crypto_df.columns if c != y_currency]\n",
    "crypto_df[x_currencies] = crypto_df[x_currencies].shift(periods=1, freq=tdelta)\n",
    "crypto_df.dropna(axis=0, how='any', inplace=True)\n",
    "crypto_df.head()"
   ]
  },
  {
   "cell_type": "markdown",
   "metadata": {},
   "source": [
    "## Replacing cryptocurrency returns with PCA components"
   ]
  },
  {
   "cell_type": "code",
   "execution_count": 6,
   "metadata": {},
   "outputs": [],
   "source": [
    "# Placeholder"
   ]
  },
  {
   "cell_type": "markdown",
   "metadata": {},
   "source": [
    "## Extracting news features using NLP"
   ]
  },
  {
   "cell_type": "code",
   "execution_count": null,
   "metadata": {},
   "outputs": [],
   "source": [
    "# Placeholder"
   ]
  },
  {
   "cell_type": "markdown",
   "metadata": {},
   "source": [
    "## Separate train/test\n",
    "\n",
    "Once all feature engineering has been finished, i.e., design matrix is ready."
   ]
  },
  {
   "cell_type": "code",
   "execution_count": 7,
   "metadata": {},
   "outputs": [],
   "source": [
    "x_vars = x_currencies\n",
    "train_cutoff = pd.to_datetime('6/1/2017')  # chosen arbitrarily\n",
    "\n",
    "crypto_df_train = crypto_df[crypto_df.index <= train_cutoff]\n",
    "crypto_df_test = crypto_df[crypto_df.index > train_cutoff]\n",
    "\n",
    "X_train, X_test = crypto_df_train[x_vars], crypto_df_test[x_vars]\n",
    "y_train, y_test = crypto_df_train[y_currency], crypto_df_test[y_currency]"
   ]
  },
  {
   "cell_type": "markdown",
   "metadata": {},
   "source": [
    "# Build Model"
   ]
  },
  {
   "cell_type": "markdown",
   "metadata": {},
   "source": [
    "## Establish Baseline Models"
   ]
  },
  {
   "cell_type": "code",
   "execution_count": 8,
   "metadata": {},
   "outputs": [],
   "source": [
    "from sklearn.linear_model import LassoCV, Lasso\n",
    "from sklearn.linear_model import LinearRegression\n",
    "from sklearn.linear_model import RidgeCV, Ridge"
   ]
  },
  {
   "cell_type": "code",
   "execution_count": 9,
   "metadata": {},
   "outputs": [
    {
     "name": "stdout",
     "output_type": "stream",
     "text": [
      "Finished fitting baseline models.\r"
     ]
    }
   ],
   "source": [
    "# Define hyperparam space for models where we will optimize hyperparams.\n",
    "cv_alph_lasso = np.linspace(1e-3, 1e-1, 5)\n",
    "cv_alph_ridge = range(10, 60, 10)\n",
    "N_CV = 3  # k-folds over which to cross-validate\n",
    "\n",
    "# Fit models / optimize hyperparams.\n",
    "print_update('Fitting LR...')\n",
    "lr = LinearRegression().fit(X_train, y_train)\n",
    "print_update('Fitting Ridge...')\n",
    "ridge = RidgeCV(alphas=cv_alph_ridge, cv=N_CV).fit(X_train, y_train)\n",
    "print_update('Fitting Lasso...')\n",
    "lasso = LassoCV(alphas=cv_alph_lasso, cv=N_CV).fit(X_train, y_train)\n",
    "print_update('Finished fitting baseline models.')"
   ]
  },
  {
   "cell_type": "code",
   "execution_count": 10,
   "metadata": {},
   "outputs": [
    {
     "name": "stdout",
     "output_type": "stream",
     "text": [
      "Finished evaluating models.      \r"
     ]
    },
    {
     "data": {
      "text/html": [
       "<div>\n",
       "<style scoped>\n",
       "    .dataframe tbody tr th:only-of-type {\n",
       "        vertical-align: middle;\n",
       "    }\n",
       "\n",
       "    .dataframe tbody tr th {\n",
       "        vertical-align: top;\n",
       "    }\n",
       "\n",
       "    .dataframe thead th {\n",
       "        text-align: right;\n",
       "    }\n",
       "</style>\n",
       "<table border=\"1\" class=\"dataframe\">\n",
       "  <thead>\n",
       "    <tr style=\"text-align: right;\">\n",
       "      <th></th>\n",
       "      <th>model</th>\n",
       "      <th>train</th>\n",
       "      <th>test</th>\n",
       "    </tr>\n",
       "  </thead>\n",
       "  <tbody>\n",
       "    <tr>\n",
       "      <th>2</th>\n",
       "      <td>Lasso</td>\n",
       "      <td>0.000</td>\n",
       "      <td>-5.211e-04</td>\n",
       "    </tr>\n",
       "    <tr>\n",
       "      <th>1</th>\n",
       "      <td>Ridge</td>\n",
       "      <td>0.007</td>\n",
       "      <td>-1.857e-02</td>\n",
       "    </tr>\n",
       "    <tr>\n",
       "      <th>0</th>\n",
       "      <td>LR</td>\n",
       "      <td>0.007</td>\n",
       "      <td>-2.070e-02</td>\n",
       "    </tr>\n",
       "  </tbody>\n",
       "</table>\n",
       "</div>"
      ],
      "text/plain": [
       "   model  train       test\n",
       "2  Lasso  0.000 -5.211e-04\n",
       "1  Ridge  0.007 -1.857e-02\n",
       "0     LR  0.007 -2.070e-02"
      ]
     },
     "metadata": {},
     "output_type": "display_data"
    }
   ],
   "source": [
    "# Evaluate model performance on test set.\n",
    "\n",
    "models = [(lr, 'LR'), (ridge, 'Ridge'), (lasso, 'Lasso')]\n",
    "df_scores = pd.DataFrame(columns=['model', 'train', 'test'])\n",
    "for (model, name) in models:\n",
    "    print_update('Evaluating {}...'.format(name))\n",
    "    train_score = model.score(X_train, y_train)\n",
    "    test_score = model.score(X_test, y_test)\n",
    "    new_row = {'model': name, 'train': train_score, 'test': test_score}\n",
    "    df_scores = df_scores.append(new_row, ignore_index=True)\n",
    "print_update('Finished evaluating baseline models.')\n",
    "    \n",
    "df_scores.sort_values('test', ascending=False, inplace=True)\n",
    "display(df_scores)"
   ]
  },
  {
   "cell_type": "code",
   "execution_count": null,
   "metadata": {},
   "outputs": [],
   "source": []
  }
 ],
 "metadata": {
  "kernelspec": {
   "display_name": "Python 3",
   "language": "python",
   "name": "python3"
  },
  "language_info": {
   "codemirror_mode": {
    "name": "ipython",
    "version": 3
   },
   "file_extension": ".py",
   "mimetype": "text/x-python",
   "name": "python",
   "nbconvert_exporter": "python",
   "pygments_lexer": "ipython3",
   "version": "3.5.2"
  }
 },
 "nbformat": 4,
 "nbformat_minor": 2
}
