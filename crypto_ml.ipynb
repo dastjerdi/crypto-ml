{
 "cells": [
  {
   "cell_type": "markdown",
   "metadata": {},
   "source": [
    "# AC209 Project: Predicting the returns on Cryptocurrencies\n",
    "\n",
    "by Ali Dastjerdi, Angelina Massa, Sachin Mathur & Nate Stein\n",
    "\n",
    "### Project Goal\n",
    "\n",
    "To predict the price return of one cryptocurrency based on the returns of other cryptocurrencies; market data, including equity indices and other benchmarks; and cryptocurrency news.\n",
    "\n",
    "### Work Load\n",
    "\n",
    "1. Creating basic data pipelines and evaluating different model possibilities.\n",
    "2. Using NLP techniques to convert unstructured news data concerning cryptocurrencies into features that can be fed into model.\n",
    "\n",
    "### Cryptocurrency Scope\n",
    "\n",
    "We focus on cryptocurrencies that have data going back to 2015 or earlier so we have more data points: btc, ltc, xrp, xlm, eth.\n",
    "\n",
    "**SOUND FAIR?**\n",
    "\n",
    "#### Earliest date data available\n",
    "For top 10 cryptocurrencies in terms of market-cap, the following dates are the earliest dates closing price data is available:\n",
    "\n",
    "    btc\t4/28/2013\n",
    "    ltc\t4/28/2013\n",
    "    xrp\t8/4/2013\n",
    "    xlm\t8/5/2014\n",
    "    eth\t8/7/2015\n",
    "    neo\t9/9/2016\n",
    "    miota\t6/13/2017\n",
    "    eos\t7/1/2017\n",
    "    bch\t7/23/2017\n",
    "    ada\t10/1/2017"
   ]
  },
  {
   "cell_type": "code",
   "execution_count": 1,
   "metadata": {},
   "outputs": [],
   "source": [
    "import crypto_utils as crypu\n",
    "import datetime\n",
    "import matplotlib.dates as mdates\n",
    "import matplotlib.pyplot as plt\n",
    "import numpy as np\n",
    "import pandas as pd\n",
    "import seaborn as sns\n",
    "import sys\n",
    "\n",
    "from crypto_utils import fmt_date, print_update\n",
    "from sklearn.linear_model import LassoCV\n",
    "from sklearn.linear_model import LinearRegression\n",
    "from sklearn.linear_model import RidgeCV"
   ]
  },
  {
   "cell_type": "code",
   "execution_count": 2,
   "metadata": {},
   "outputs": [],
   "source": [
    "# Custom output options.\n",
    "\n",
    "np.set_printoptions(precision=3, suppress=True)\n",
    "pd.set_option('display.precision', 3)\n",
    "sns.set_style('white')\n",
    "plt.rcParams['figure.figsize'] = (10, 8)\n",
    "plt.rcParams['font.size'] = 14\n",
    "plt.rcParams['legend.fontsize'] = 12\n",
    "plt.rcParams['savefig.bbox'] = 'tight'\n",
    "plt.rcParams['savefig.pad_inches'] = 0.05\n",
    "%matplotlib inline"
   ]
  },
  {
   "cell_type": "markdown",
   "metadata": {},
   "source": [
    "# EDA"
   ]
  },
  {
   "cell_type": "markdown",
   "metadata": {},
   "source": [
    "### Basic Data Features\n",
    "\n",
    "Here we create two time series containing the daily rolling returns for a subset of cryptocurrencies: (i) raw daily returns and (ii) daily returns centered and scaled to unit variance with respect to each cryptocurrency.\n",
    "\n",
    "For example, the value for `btc` on 2015-08-09 in the raw DataFrame will be equal to:\n",
    "\n",
    "$$\\frac{\\text{btc}_t}{\\text{btc}_{t-1}}-1 = \\frac{265.08}{261.00}-1=1.56\\%$$\n",
    "\n",
    "where $\\text{btc}_t$ is the closing price of `btc` on 2015-08-09 and $\\text{btc}_{t-1}$ is the closing price of `btc` on the previous day, 2015-08-08."
   ]
  },
  {
   "cell_type": "code",
   "execution_count": 3,
   "metadata": {},
   "outputs": [],
   "source": [
    "# Load rolling returns time series.\n",
    "\n",
    "CRYPTO_SCOPE = ['btc', 'ltc', 'xrp', 'xlm', 'eth']\n",
    "tdelta = pd.Timedelta(days=1)\n",
    "analysis_end_dt = pd.to_datetime('3/31/2018')\n",
    "crypto_df_raw = crypu.load_returns_matrix (CRYPTO_SCOPE, \n",
    "                                           end_date=analysis_end_dt, \n",
    "                                           tdelta=tdelta, center=False, \n",
    "                                           scale=False)\n",
    "crypto_df_std = crypu.load_returns_matrix (CRYPTO_SCOPE, \n",
    "                                           end_date=analysis_end_dt, \n",
    "                                           tdelta=tdelta, center=True, \n",
    "                                           scale=True)"
   ]
  },
  {
   "cell_type": "code",
   "execution_count": 4,
   "metadata": {
    "scrolled": false
   },
   "outputs": [
    {
     "name": "stdout",
     "output_type": "stream",
     "text": [
      "Rolling returns time period:\n",
      "\tStart date: 08/08/2015\n",
      "\tEnd date: 03/31/2018\n",
      "\tObservations: 967\n",
      "\n",
      "Raw DataFrame:\n"
     ]
    },
    {
     "data": {
      "text/html": [
       "<div>\n",
       "<style scoped>\n",
       "    .dataframe tbody tr th:only-of-type {\n",
       "        vertical-align: middle;\n",
       "    }\n",
       "\n",
       "    .dataframe tbody tr th {\n",
       "        vertical-align: top;\n",
       "    }\n",
       "\n",
       "    .dataframe thead th {\n",
       "        text-align: right;\n",
       "    }\n",
       "</style>\n",
       "<table border=\"1\" class=\"dataframe\">\n",
       "  <thead>\n",
       "    <tr style=\"text-align: right;\">\n",
       "      <th></th>\n",
       "      <th>btc</th>\n",
       "      <th>ltc</th>\n",
       "      <th>xrp</th>\n",
       "      <th>xlm</th>\n",
       "      <th>eth</th>\n",
       "    </tr>\n",
       "    <tr>\n",
       "      <th>date</th>\n",
       "      <th></th>\n",
       "      <th></th>\n",
       "      <th></th>\n",
       "      <th></th>\n",
       "      <th></th>\n",
       "    </tr>\n",
       "  </thead>\n",
       "  <tbody>\n",
       "    <tr>\n",
       "      <th>2015-08-08</th>\n",
       "      <td>-0.066</td>\n",
       "      <td>-0.086</td>\n",
       "      <td>0.040</td>\n",
       "      <td>-0.005</td>\n",
       "      <td>-0.728</td>\n",
       "    </tr>\n",
       "    <tr>\n",
       "      <th>2015-08-09</th>\n",
       "      <td>0.016</td>\n",
       "      <td>0.013</td>\n",
       "      <td>0.039</td>\n",
       "      <td>-0.031</td>\n",
       "      <td>-0.068</td>\n",
       "    </tr>\n",
       "    <tr>\n",
       "      <th>2015-08-10</th>\n",
       "      <td>-0.002</td>\n",
       "      <td>0.013</td>\n",
       "      <td>-0.007</td>\n",
       "      <td>0.052</td>\n",
       "      <td>0.009</td>\n",
       "    </tr>\n",
       "    <tr>\n",
       "      <th>2015-08-11</th>\n",
       "      <td>0.022</td>\n",
       "      <td>0.053</td>\n",
       "      <td>-0.018</td>\n",
       "      <td>-0.028</td>\n",
       "      <td>0.510</td>\n",
       "    </tr>\n",
       "    <tr>\n",
       "      <th>2015-08-12</th>\n",
       "      <td>-0.015</td>\n",
       "      <td>-0.041</td>\n",
       "      <td>-0.037</td>\n",
       "      <td>-0.008</td>\n",
       "      <td>0.140</td>\n",
       "    </tr>\n",
       "  </tbody>\n",
       "</table>\n",
       "</div>"
      ],
      "text/plain": [
       "              btc    ltc    xrp    xlm    eth\n",
       "date                                         \n",
       "2015-08-08 -0.066 -0.086  0.040 -0.005 -0.728\n",
       "2015-08-09  0.016  0.013  0.039 -0.031 -0.068\n",
       "2015-08-10 -0.002  0.013 -0.007  0.052  0.009\n",
       "2015-08-11  0.022  0.053 -0.018 -0.028  0.510\n",
       "2015-08-12 -0.015 -0.041 -0.037 -0.008  0.140"
      ]
     },
     "metadata": {},
     "output_type": "display_data"
    },
    {
     "name": "stdout",
     "output_type": "stream",
     "text": [
      "Standardized DataFrame:\n"
     ]
    },
    {
     "data": {
      "text/html": [
       "<div>\n",
       "<style scoped>\n",
       "    .dataframe tbody tr th:only-of-type {\n",
       "        vertical-align: middle;\n",
       "    }\n",
       "\n",
       "    .dataframe tbody tr th {\n",
       "        vertical-align: top;\n",
       "    }\n",
       "\n",
       "    .dataframe thead th {\n",
       "        text-align: right;\n",
       "    }\n",
       "</style>\n",
       "<table border=\"1\" class=\"dataframe\">\n",
       "  <thead>\n",
       "    <tr style=\"text-align: right;\">\n",
       "      <th></th>\n",
       "      <th>btc</th>\n",
       "      <th>ltc</th>\n",
       "      <th>xrp</th>\n",
       "      <th>xlm</th>\n",
       "      <th>eth</th>\n",
       "    </tr>\n",
       "    <tr>\n",
       "      <th>date</th>\n",
       "      <th></th>\n",
       "      <th></th>\n",
       "      <th></th>\n",
       "      <th></th>\n",
       "      <th></th>\n",
       "    </tr>\n",
       "  </thead>\n",
       "  <tbody>\n",
       "    <tr>\n",
       "      <th>2015-08-08</th>\n",
       "      <td>-1.707</td>\n",
       "      <td>-1.426</td>\n",
       "      <td>0.326</td>\n",
       "      <td>-0.140</td>\n",
       "      <td>-9.351</td>\n",
       "    </tr>\n",
       "    <tr>\n",
       "      <th>2015-08-09</th>\n",
       "      <td>0.277</td>\n",
       "      <td>0.121</td>\n",
       "      <td>0.320</td>\n",
       "      <td>-0.386</td>\n",
       "      <td>-0.974</td>\n",
       "    </tr>\n",
       "    <tr>\n",
       "      <th>2015-08-10</th>\n",
       "      <td>-0.157</td>\n",
       "      <td>0.118</td>\n",
       "      <td>-0.148</td>\n",
       "      <td>0.416</td>\n",
       "      <td>0.011</td>\n",
       "    </tr>\n",
       "    <tr>\n",
       "      <th>2015-08-11</th>\n",
       "      <td>0.440</td>\n",
       "      <td>0.752</td>\n",
       "      <td>-0.266</td>\n",
       "      <td>-0.357</td>\n",
       "      <td>6.373</td>\n",
       "    </tr>\n",
       "    <tr>\n",
       "      <th>2015-08-12</th>\n",
       "      <td>-0.460</td>\n",
       "      <td>-0.725</td>\n",
       "      <td>-0.461</td>\n",
       "      <td>-0.161</td>\n",
       "      <td>1.673</td>\n",
       "    </tr>\n",
       "  </tbody>\n",
       "</table>\n",
       "</div>"
      ],
      "text/plain": [
       "              btc    ltc    xrp    xlm    eth\n",
       "date                                         \n",
       "2015-08-08 -1.707 -1.426  0.326 -0.140 -9.351\n",
       "2015-08-09  0.277  0.121  0.320 -0.386 -0.974\n",
       "2015-08-10 -0.157  0.118 -0.148  0.416  0.011\n",
       "2015-08-11  0.440  0.752 -0.266 -0.357  6.373\n",
       "2015-08-12 -0.460 -0.725 -0.461 -0.161  1.673"
      ]
     },
     "metadata": {},
     "output_type": "display_data"
    }
   ],
   "source": [
    "# No reason start dates should be different for raw and standardized \n",
    "# DataFrames.\n",
    "analysis_start_dt = pd.to_datetime(crypto_df_raw.index.values.min())\n",
    "assert analysis_start_dt == crypto_df_std.index.values.min()\n",
    "assert analysis_end_dt == crypto_df_std.index.values.max()\n",
    "\n",
    "analysis_daycount = (analysis_end_dt - analysis_start_dt).days\n",
    "\n",
    "print('Rolling returns time period:')\n",
    "print('\\tStart date: {}'.format(fmt_date(analysis_start_dt)))\n",
    "print('\\tEnd date: {}'.format(fmt_date(crypto_df_raw.index.values.max())))\n",
    "print('\\tObservations: {}'.format(crypto_df_raw.shape[0]))\n",
    "print('\\nRaw DataFrame:')\n",
    "display(crypto_df_raw.head())\n",
    "print('Standardized DataFrame:')\n",
    "display(crypto_df_std.head())"
   ]
  },
  {
   "cell_type": "markdown",
   "metadata": {},
   "source": [
    "### Analysis of Unstandardized Daily Price Return Data\n",
    "\n",
    "First we take a look at what the raw daily price return data looks like, i.e., the rolling daily returns that are not centered/scaled by cryptocurrency."
   ]
  },
  {
   "cell_type": "code",
   "execution_count": 5,
   "metadata": {},
   "outputs": [
    {
     "name": "stdout",
     "output_type": "stream",
     "text": [
      "Price return statistics without centering/scaling:\n",
      "Mean returns:\n"
     ]
    },
    {
     "data": {
      "text/plain": [
       "btc    0.004\n",
       "ltc    0.005\n",
       "xrp    0.008\n",
       "xlm    0.009\n",
       "eth    0.008\n",
       "dtype: float64"
      ]
     },
     "metadata": {},
     "output_type": "display_data"
    },
    {
     "name": "stdout",
     "output_type": "stream",
     "text": [
      "Standard deviation of returns:\n"
     ]
    },
    {
     "data": {
      "text/plain": [
       "btc    0.041\n",
       "ltc    0.064\n",
       "xrp    0.098\n",
       "xlm    0.103\n",
       "eth    0.079\n",
       "dtype: float64"
      ]
     },
     "metadata": {},
     "output_type": "display_data"
    },
    {
     "name": "stdout",
     "output_type": "stream",
     "text": [
      "Cumulative return:\n"
     ]
    },
    {
     "data": {
      "text/plain": [
       "btc     24.943\n",
       "ltc     27.698\n",
       "xrp     62.850\n",
       "xlm     85.024\n",
       "eth    143.126\n",
       "dtype: float64"
      ]
     },
     "metadata": {},
     "output_type": "display_data"
    },
    {
     "name": "stdout",
     "output_type": "stream",
     "text": [
      "Correlation:\n"
     ]
    },
    {
     "data": {
      "text/html": [
       "<div>\n",
       "<style scoped>\n",
       "    .dataframe tbody tr th:only-of-type {\n",
       "        vertical-align: middle;\n",
       "    }\n",
       "\n",
       "    .dataframe tbody tr th {\n",
       "        vertical-align: top;\n",
       "    }\n",
       "\n",
       "    .dataframe thead th {\n",
       "        text-align: right;\n",
       "    }\n",
       "</style>\n",
       "<table border=\"1\" class=\"dataframe\">\n",
       "  <thead>\n",
       "    <tr style=\"text-align: right;\">\n",
       "      <th></th>\n",
       "      <th>btc</th>\n",
       "      <th>ltc</th>\n",
       "      <th>xrp</th>\n",
       "      <th>xlm</th>\n",
       "      <th>eth</th>\n",
       "    </tr>\n",
       "  </thead>\n",
       "  <tbody>\n",
       "    <tr>\n",
       "      <th>btc</th>\n",
       "      <td>1.000</td>\n",
       "      <td>0.512</td>\n",
       "      <td>0.187</td>\n",
       "      <td>0.259</td>\n",
       "      <td>0.299</td>\n",
       "    </tr>\n",
       "    <tr>\n",
       "      <th>ltc</th>\n",
       "      <td>0.512</td>\n",
       "      <td>1.000</td>\n",
       "      <td>0.255</td>\n",
       "      <td>0.281</td>\n",
       "      <td>0.273</td>\n",
       "    </tr>\n",
       "    <tr>\n",
       "      <th>xrp</th>\n",
       "      <td>0.187</td>\n",
       "      <td>0.255</td>\n",
       "      <td>1.000</td>\n",
       "      <td>0.473</td>\n",
       "      <td>0.119</td>\n",
       "    </tr>\n",
       "    <tr>\n",
       "      <th>xlm</th>\n",
       "      <td>0.259</td>\n",
       "      <td>0.281</td>\n",
       "      <td>0.473</td>\n",
       "      <td>1.000</td>\n",
       "      <td>0.167</td>\n",
       "    </tr>\n",
       "    <tr>\n",
       "      <th>eth</th>\n",
       "      <td>0.299</td>\n",
       "      <td>0.273</td>\n",
       "      <td>0.119</td>\n",
       "      <td>0.167</td>\n",
       "      <td>1.000</td>\n",
       "    </tr>\n",
       "  </tbody>\n",
       "</table>\n",
       "</div>"
      ],
      "text/plain": [
       "       btc    ltc    xrp    xlm    eth\n",
       "btc  1.000  0.512  0.187  0.259  0.299\n",
       "ltc  0.512  1.000  0.255  0.281  0.273\n",
       "xrp  0.187  0.255  1.000  0.473  0.119\n",
       "xlm  0.259  0.281  0.473  1.000  0.167\n",
       "eth  0.299  0.273  0.119  0.167  1.000"
      ]
     },
     "execution_count": 5,
     "metadata": {},
     "output_type": "execute_result"
    }
   ],
   "source": [
    "print('Price return statistics without centering/scaling:')\n",
    "print('Mean returns:')\n",
    "display(crypto_df_raw.mean(axis=0))\n",
    "print('Standard deviation of returns:')\n",
    "display(crypto_df_raw.std(axis=0))\n",
    "print('Cumulative return:')\n",
    "display((crypto_df_raw + 1).prod(axis=0))\n",
    "print('Correlation:')\n",
    "crypto_df_raw.corr()"
   ]
  },
  {
   "cell_type": "code",
   "execution_count": 6,
   "metadata": {},
   "outputs": [
    {
     "data": {
      "image/png": "[encoded data removed]",
      "text/plain": [
       "<matplotlib.figure.Figure at 0xff76974a90>"
      ]
     },
     "metadata": {},
     "output_type": "display_data"
    }
   ],
   "source": [
    "# Correlation matrix graph.\n",
    "\n",
    "corr = np.corrcoef(crypto_df_raw.values.T)\n",
    "plt.figure(figsize=(8, 8))\n",
    "plt.imshow(corr, cmap='Blues', interpolation='none')\n",
    "cb = plt.colorbar()\n",
    "cb.set_label('Correlation Matrix Coefficients')\n",
    "plt.title('Correlation Matrix', fontsize=16)\n",
    "\n",
    "# Shift axes ticks b/c they defualt to center of squares.\n",
    "ticks = np.arange(-0.5, len(CRYPTO_SCOPE), 1)\n",
    "tick_labels = np.arange(1, len(CRYPTO_SCOPE), 1)\n",
    "plt.xticks(ticks, CRYPTO_SCOPE, rotation=90, size=14)\n",
    "plt.yticks(ticks, CRYPTO_SCOPE, size=14)\n",
    "plt.savefig('plots/corr.png', bbox_inches='tight')"
   ]
  },
  {
   "cell_type": "code",
   "execution_count": 7,
   "metadata": {},
   "outputs": [
    {
     "data": {
      "image/png": "[encoded data removed]",
      "text/plain": [
       "<matplotlib.figure.Figure at 0xff7843e278>"
      ]
     },
     "metadata": {},
     "output_type": "display_data"
    }
   ],
   "source": [
    "# Graph returns.\n",
    "\n",
    "LW = 0.5  # line width\n",
    "TS = 12  # subplot title size\n",
    "\n",
    "# Number of rows and columns we'll need for all subplots.\n",
    "INCHES_PER_ROW, INCHES_PER_COL = 3, 3\n",
    "ax_rows, ax_cols = 2, 3\n",
    "figsize = (ax_cols*INCHES_PER_COL, ax_rows*INCHES_PER_ROW)\n",
    "\n",
    "# Create xticks so we have only 5 ticks.\n",
    "desired_ticks = 5\n",
    "days_per_tick = int(analysis_daycount/desired_ticks)\n",
    "xticks = [analysis_start_dt + datetime.timedelta(days=x_*days_per_tick) for \n",
    "          x_ in range(1, desired_ticks+1)]\n",
    "\n",
    "f, ax = plt.subplots(ax_rows, ax_cols, figsize=figsize,\n",
    "                     sharex=True, sharey=True)\n",
    "xaxis_fmt = mdates.DateFormatter('%m/%y')\n",
    "row = 0\n",
    "col = 0\n",
    "\n",
    "for crypto in CRYPTO_SCOPE:\n",
    "    ax[row, col].plot(crypto_df_raw[crypto], linewidth=LW)\n",
    "    ax[row, col].set_title(crypto, size=TS)\n",
    "    ax[row, col].set_xticks(xticks)\n",
    "    ax[row, col].xaxis.set_major_formatter(xaxis_fmt)\n",
    "    \n",
    "    # Increment axis index.\n",
    "    if ((col + 1)%ax_cols)==0:\n",
    "        # Move to next row since we're at last column.\n",
    "        col = 0\n",
    "        row += 1\n",
    "    else:\n",
    "        col += 1\n",
    "\n",
    "f.autofmt_xdate()  #  so dates are rotated nicely on x-axis\n",
    "f.suptitle('Cryptocurrency Rolling Daily Returns', size=16)\n",
    "plt.savefig('plots/daily_rolling_all.png', bbox_inches='tight')"
   ]
  },
  {
   "cell_type": "markdown",
   "metadata": {},
   "source": [
    "#### Histogram of Cryptocurrency Returns\n",
    "\n",
    "*For unstandardized cryptocurrency returns*"
   ]
  },
  {
   "cell_type": "code",
   "execution_count": 17,
   "metadata": {},
   "outputs": [
    {
     "name": "stdout",
     "output_type": "stream",
     "text": [
      "Bin boundaries:\n",
      "-0.88%\n",
      "0.31%\n",
      "1.92%\n"
     ]
    },
    {
     "data": {
      "image/png": "[encoded data removed]",
      "text/plain": [
       "<matplotlib.figure.Figure at 0xff7b4f06d8>"
      ]
     },
     "metadata": {},
     "output_type": "display_data"
    }
   ],
   "source": [
    "# Dimensions will be same as rolling return subplots.\n",
    "f_hist, ax_hist = plt.subplots(ax_rows, ax_cols, figsize=figsize,\n",
    "                               sharex=True, sharey=True)\n",
    "row, col = 0, 0\n",
    "bins = 5\n",
    "\n",
    "# Base bin boundaries for all histograms on bitcoin's quantiles.\n",
    "btc_bins = [-1.0]\n",
    "for qtile in [0.25, 0.5, 0.75]:\n",
    "    btc_bins.append(crypto_df_raw['btc'].quantile(qtile))\n",
    "btc_bins.append(100.0)\n",
    "\n",
    "print('Bin boundaries:')\n",
    "for b in btc_bins[1:-1]:\n",
    "    print('{:.2%}'.format(b))\n",
    "\n",
    "for crypto in CRYPTO_SCOPE:\n",
    "    ax_hist[row, col].hist(crypto_df_raw[crypto], bins=btc_bins, normed=True)\n",
    "    ax_hist[row, col].set_title(crypto, size=TS)\n",
    "    \n",
    "    # Increment axis index.\n",
    "    if ((col + 1)%ax_cols)==0:\n",
    "        # Move to next row since we're at last column.\n",
    "        col = 0\n",
    "        row += 1\n",
    "    else:\n",
    "        col += 1\n",
    "\n",
    "f_hist.suptitle('Cryptocurrency Rolling Daily Returns Histogram', size=16)\n",
    "f_hist.savefig('plots/histogram_all.png')"
   ]
  },
  {
   "cell_type": "code",
   "execution_count": 13,
   "metadata": {},
   "outputs": [
    {
     "data": {
      "text/plain": [
       "[-1.0,\n",
       " -0.008767714173464114,\n",
       " 0.0031243558728126786,\n",
       " 0.019168660516522884,\n",
       " 100.0]"
      ]
     },
     "execution_count": 13,
     "metadata": {},
     "output_type": "execute_result"
    }
   ],
   "source": [
    "btc_bins"
   ]
  },
  {
   "cell_type": "markdown",
   "metadata": {},
   "source": [
    "# Prepare model data\n",
    "\n",
    "#### Definition of rolling returns\n",
    "\n",
    "We aim to One cryptocurrency's return will be the $Y$ value while the other currencies' returns will be the $X$.\n",
    "\n",
    "In below example, `btc` is the cryptocurrency whose price return we try to predict. Therefore, one example of row in our training data would contain:\n",
    "- Index: 3/30/2018\n",
    "- $Y$: `btc`'s percentage change in `close` price from 3/29/2018 -> 3/30/2018.\n",
    "- $X$: The other cryptocurrencies' percentage change in `close` price from 3/28/2018 -> 3/29/2018.\n",
    "\n",
    "i.e., we want to use the rolling returns from the other cryptocurrencies on 3/29/2018 to predict the return of `btc` on the next day (3/30/2018).\n",
    "\n",
    "For example, the price return for `eth` on original frame at 10/3/2017 was equal to $-0.329$. After shifting the returns forward one day in the following code, the price return for `eth` on 10/3/2017 becomes $-0.316$, the value for 10/2/2017 in the previous DF. "
   ]
  },
  {
   "cell_type": "code",
   "execution_count": 64,
   "metadata": {},
   "outputs": [
    {
     "data": {
      "text/html": [
       "<div>\n",
       "<style scoped>\n",
       "    .dataframe tbody tr th:only-of-type {\n",
       "        vertical-align: middle;\n",
       "    }\n",
       "\n",
       "    .dataframe tbody tr th {\n",
       "        vertical-align: top;\n",
       "    }\n",
       "\n",
       "    .dataframe thead th {\n",
       "        text-align: right;\n",
       "    }\n",
       "</style>\n",
       "<table border=\"1\" class=\"dataframe\">\n",
       "  <thead>\n",
       "    <tr style=\"text-align: right;\">\n",
       "      <th></th>\n",
       "      <th>btc</th>\n",
       "      <th>ltc</th>\n",
       "      <th>xrp</th>\n",
       "      <th>xlm</th>\n",
       "      <th>eth</th>\n",
       "    </tr>\n",
       "    <tr>\n",
       "      <th>date</th>\n",
       "      <th></th>\n",
       "      <th></th>\n",
       "      <th></th>\n",
       "      <th></th>\n",
       "      <th></th>\n",
       "    </tr>\n",
       "  </thead>\n",
       "  <tbody>\n",
       "    <tr>\n",
       "      <th>2015-08-09</th>\n",
       "      <td>0.277</td>\n",
       "      <td>-1.426</td>\n",
       "      <td>0.326</td>\n",
       "      <td>-0.140</td>\n",
       "      <td>-9.351</td>\n",
       "    </tr>\n",
       "    <tr>\n",
       "      <th>2015-08-10</th>\n",
       "      <td>-0.157</td>\n",
       "      <td>0.121</td>\n",
       "      <td>0.320</td>\n",
       "      <td>-0.386</td>\n",
       "      <td>-0.974</td>\n",
       "    </tr>\n",
       "    <tr>\n",
       "      <th>2015-08-11</th>\n",
       "      <td>0.440</td>\n",
       "      <td>0.118</td>\n",
       "      <td>-0.148</td>\n",
       "      <td>0.416</td>\n",
       "      <td>0.011</td>\n",
       "    </tr>\n",
       "    <tr>\n",
       "      <th>2015-08-12</th>\n",
       "      <td>-0.460</td>\n",
       "      <td>0.752</td>\n",
       "      <td>-0.266</td>\n",
       "      <td>-0.357</td>\n",
       "      <td>6.373</td>\n",
       "    </tr>\n",
       "    <tr>\n",
       "      <th>2015-08-13</th>\n",
       "      <td>-0.310</td>\n",
       "      <td>-0.725</td>\n",
       "      <td>-0.461</td>\n",
       "      <td>-0.161</td>\n",
       "      <td>1.673</td>\n",
       "    </tr>\n",
       "  </tbody>\n",
       "</table>\n",
       "</div>"
      ],
      "text/plain": [
       "              btc    ltc    xrp    xlm    eth\n",
       "date                                         \n",
       "2015-08-09  0.277 -1.426  0.326 -0.140 -9.351\n",
       "2015-08-10 -0.157  0.121  0.320 -0.386 -0.974\n",
       "2015-08-11  0.440  0.118 -0.148  0.416  0.011\n",
       "2015-08-12 -0.460  0.752 -0.266 -0.357  6.373\n",
       "2015-08-13 -0.310 -0.725 -0.461 -0.161  1.673"
      ]
     },
     "execution_count": 64,
     "metadata": {},
     "output_type": "execute_result"
    }
   ],
   "source": [
    "y_currency = 'btc'  # crypto whose return we want to predict\n",
    "x_currencies = [c for c in crypto_df_std.columns if c != y_currency]\n",
    "crypto_df_model = crypto_df_std.copy()\n",
    "crypto_df_model[x_currencies] = crypto_df_model[x_currencies].shift(\n",
    "    periods=1, freq=tdelta)\n",
    "crypto_df_model.dropna(axis=0, how='any', inplace=True)\n",
    "crypto_df_model.head()"
   ]
  },
  {
   "cell_type": "markdown",
   "metadata": {},
   "source": [
    "## Replacing cryptocurrency returns with PCA components"
   ]
  },
  {
   "cell_type": "code",
   "execution_count": 65,
   "metadata": {},
   "outputs": [],
   "source": [
    "# Placeholder"
   ]
  },
  {
   "cell_type": "markdown",
   "metadata": {},
   "source": [
    "## Extracting news features using NLP"
   ]
  },
  {
   "cell_type": "code",
   "execution_count": 66,
   "metadata": {},
   "outputs": [],
   "source": [
    "# Placeholder"
   ]
  },
  {
   "cell_type": "markdown",
   "metadata": {},
   "source": [
    "## Separate train/test\n",
    "\n",
    "Once all feature engineering has been finished, i.e., design matrix is ready."
   ]
  },
  {
   "cell_type": "code",
   "execution_count": 67,
   "metadata": {},
   "outputs": [],
   "source": [
    "x_vars = x_currencies\n",
    "train_cutoff = pd.to_datetime('6/1/2017')  # chosen arbitrarily\n",
    "\n",
    "crypto_train = crypto_df_model[crypto_df_model.index <= train_cutoff]\n",
    "crypto_test = crypto_df_model[crypto_df_model.index > train_cutoff]\n",
    "\n",
    "X_train, X_test = crypto_train[x_vars], crypto_test[x_vars]\n",
    "y_train, y_test = crypto_train[y_currency], crypto_test[y_currency]"
   ]
  },
  {
   "cell_type": "markdown",
   "metadata": {},
   "source": [
    "# Build Model"
   ]
  },
  {
   "cell_type": "markdown",
   "metadata": {},
   "source": [
    "## Establish Baseline Models"
   ]
  },
  {
   "cell_type": "code",
   "execution_count": 68,
   "metadata": {},
   "outputs": [
    {
     "name": "stdout",
     "output_type": "stream",
     "text": [
      "Finished fitting baseline models.\r"
     ]
    }
   ],
   "source": [
    "# Define hyperparam space for models where we will optimize hyperparams.\n",
    "cv_alph_lasso = np.linspace(1e-3, 1e-1, 5)\n",
    "cv_alph_ridge = range(10, 60, 10)\n",
    "N_CV = 3  # k-folds over which to cross-validate\n",
    "\n",
    "# Fit models / optimize hyperparams.\n",
    "print_update('Fitting LR...')\n",
    "lr = LinearRegression().fit(X_train, y_train)\n",
    "print_update('Fitting Ridge...')\n",
    "ridge = RidgeCV(alphas=cv_alph_ridge, cv=N_CV).fit(X_train, y_train)\n",
    "print_update('Fitting Lasso...')\n",
    "lasso = LassoCV(alphas=cv_alph_lasso, cv=N_CV).fit(X_train, y_train)\n",
    "print_update('Finished fitting baseline models.')"
   ]
  },
  {
   "cell_type": "code",
   "execution_count": 69,
   "metadata": {},
   "outputs": [
    {
     "name": "stdout",
     "output_type": "stream",
     "text": [
      "Finished evaluating baseline models.\r"
     ]
    },
    {
     "data": {
      "text/html": [
       "<div>\n",
       "<style scoped>\n",
       "    .dataframe tbody tr th:only-of-type {\n",
       "        vertical-align: middle;\n",
       "    }\n",
       "\n",
       "    .dataframe tbody tr th {\n",
       "        vertical-align: top;\n",
       "    }\n",
       "\n",
       "    .dataframe thead th {\n",
       "        text-align: right;\n",
       "    }\n",
       "</style>\n",
       "<table border=\"1\" class=\"dataframe\">\n",
       "  <thead>\n",
       "    <tr style=\"text-align: right;\">\n",
       "      <th></th>\n",
       "      <th>model</th>\n",
       "      <th>train</th>\n",
       "      <th>test</th>\n",
       "    </tr>\n",
       "  </thead>\n",
       "  <tbody>\n",
       "    <tr>\n",
       "      <th>2</th>\n",
       "      <td>Lasso</td>\n",
       "      <td>0.000</td>\n",
       "      <td>-5.211e-04</td>\n",
       "    </tr>\n",
       "    <tr>\n",
       "      <th>1</th>\n",
       "      <td>Ridge</td>\n",
       "      <td>0.007</td>\n",
       "      <td>-1.857e-02</td>\n",
       "    </tr>\n",
       "    <tr>\n",
       "      <th>0</th>\n",
       "      <td>LR</td>\n",
       "      <td>0.007</td>\n",
       "      <td>-2.070e-02</td>\n",
       "    </tr>\n",
       "  </tbody>\n",
       "</table>\n",
       "</div>"
      ],
      "text/plain": [
       "   model  train       test\n",
       "2  Lasso  0.000 -5.211e-04\n",
       "1  Ridge  0.007 -1.857e-02\n",
       "0     LR  0.007 -2.070e-02"
      ]
     },
     "metadata": {},
     "output_type": "display_data"
    }
   ],
   "source": [
    "# Evaluate model performance on test set.\n",
    "\n",
    "models = [(lr, 'LR'), (ridge, 'Ridge'), (lasso, 'Lasso')]\n",
    "df_scores = pd.DataFrame(columns=['model', 'train', 'test'])\n",
    "for (model, name) in models:\n",
    "    print_update('Evaluating {}...'.format(name))\n",
    "    train_score = model.score(X_train, y_train)\n",
    "    test_score = model.score(X_test, y_test)\n",
    "    new_row = {'model': name, 'train': train_score, 'test': test_score}\n",
    "    df_scores = df_scores.append(new_row, ignore_index=True)\n",
    "print_update('Finished evaluating baseline models.')\n",
    "    \n",
    "df_scores.sort_values('test', ascending=False, inplace=True)\n",
    "display(df_scores)"
   ]
  },
  {
   "cell_type": "code",
   "execution_count": null,
   "metadata": {},
   "outputs": [],
   "source": []
  }
 ],
 "metadata": {
  "kernelspec": {
   "display_name": "Python 3",
   "language": "python",
   "name": "python3"
  },
  "language_info": {
   "codemirror_mode": {
    "name": "ipython",
    "version": 3
   },
   "file_extension": ".py",
   "mimetype": "text/x-python",
   "name": "python",
   "nbconvert_exporter": "python",
   "pygments_lexer": "ipython3",
   "version": "3.5.2"
  }
 },
 "nbformat": 4,
 "nbformat_minor": 2
}
