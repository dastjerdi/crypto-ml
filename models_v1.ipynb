{
 "cells": [
  {
   "cell_type": "code",
   "execution_count": 1,
   "metadata": {},
   "outputs": [
    {
     "name": "stderr",
     "output_type": "stream",
     "text": [
      "C:\\Users\\mathus07\\AppData\\Local\\Continuum\\anaconda3\\lib\\site-packages\\statsmodels\\compat\\pandas.py:56: FutureWarning: The pandas.core.datetools module is deprecated and will be removed in a future version. Please use the pandas.tseries module instead.\n",
      "  from pandas.core import datetools\n",
      "C:\\Users\\mathus07\\AppData\\Local\\Continuum\\anaconda3\\lib\\site-packages\\h5py\\__init__.py:36: FutureWarning: Conversion of the second argument of issubdtype from `float` to `np.floating` is deprecated. In future, it will be treated as `np.float64 == np.dtype(float).type`.\n",
      "  from ._conv import register_converters as _register_converters\n",
      "Using TensorFlow backend.\n"
     ]
    }
   ],
   "source": [
    "import datetime\n",
    "import matplotlib.dates as mdates\n",
    "import matplotlib.pyplot as plt\n",
    "import numpy as np\n",
    "import pandas as pd\n",
    "import seaborn as sns\n",
    "import calendar\n",
    "from scipy import stats\n",
    "import sys\n",
    "\n",
    "from sklearn.preprocessing import MinMaxScaler\n",
    "from sklearn.decomposition import PCA\n",
    "from sklearn.linear_model import LogisticRegression\n",
    "from sklearn.linear_model import LogisticRegressionCV\n",
    "from sklearn.utils import resample\n",
    "from sklearn.model_selection import cross_val_score\n",
    "from sklearn.metrics import accuracy_score\n",
    "from sklearn.preprocessing import PolynomialFeatures\n",
    "from sklearn.linear_model import LassoCV\n",
    "from sklearn.decomposition import PCA\n",
    "from sklearn.model_selection import cross_val_score\n",
    "import sklearn.metrics as metrics\n",
    "from sklearn.discriminant_analysis import LinearDiscriminantAnalysis\n",
    "from sklearn.discriminant_analysis import QuadraticDiscriminantAnalysis\n",
    "from sklearn.tree import DecisionTreeClassifier\n",
    "from sklearn.ensemble import RandomForestClassifier\n",
    "from sklearn.ensemble import AdaBoostClassifier\n",
    "from sklearn import svm\n",
    "from sklearn.linear_model import LinearRegression\n",
    "from sklearn.neighbors import KNeighborsClassifier\n",
    "from sklearn.metrics import roc_curve, auc\n",
    "from sklearn.metrics import confusion_matrix\n",
    "import statsmodels.api as sm\n",
    "from sklearn.model_selection import KFold\n",
    "\n",
    "import keras\n",
    "from keras.models import Sequential\n",
    "from keras import layers\n",
    "from keras.utils import to_categorical\n",
    "from keras.layers import Dense, Dropout, Activation, LeakyReLU, PReLU \n",
    "from keras.optimizers import SGD, RMSprop, Adam\n",
    "from keras.callbacks import Callback, EarlyStopping, ModelCheckpoint\n",
    "from keras.regularizers import l2, l1\n",
    "from keras.layers import LSTM\n",
    "from keras.preprocessing.sequence import pad_sequences\n",
    "from keras.layers import TimeDistributed\n",
    "from keras.layers import RepeatVector\n",
    "\n",
    "import crypto_utils as crypu\n",
    "from eda_utils import *\n",
    "from create_models import *\n",
    "from model_utils import *\n",
    "\n",
    "\n",
    "import warnings\n",
    "warnings.filterwarnings('ignore')\n",
    "\n",
    "# define path to save model\n",
    "model_path = 'binary_model.h5'\n",
    "\n",
    "%matplotlib inline"
   ]
  },
  {
   "cell_type": "markdown",
   "metadata": {},
   "source": [
    "## Data Aggregation\n",
    "Aggregates data from different files relating to currency exchange, interest rates, stock market indicies, daily prices of Bitcoin, Litecoin from 04/2013 onwards.<br>\n",
    "Highly correlated predictors (abs(corr)>0.95) are removed.<br>\n",
    "Response Variable: Up/Down direction of Bitcoin the next day <br>"
   ]
  },
  {
   "cell_type": "code",
   "execution_count": 2,
   "metadata": {},
   "outputs": [],
   "source": [
    "p = prepare_data(\"./data/file_info.csv\")"
   ]
  },
  {
   "cell_type": "markdown",
   "metadata": {},
   "source": [
    "## Data Normalization\n",
    "Min-Max normalization within rolling windows is done<br>\n",
    "The test set performance is recorded across different sizes of rolling windows <br>"
   ]
  },
  {
   "cell_type": "code",
   "execution_count": 3,
   "metadata": {},
   "outputs": [],
   "source": [
    "k = pd.DataFrame()\n",
    "for i in range(2,20,1):\n",
    "    df = data_normalization(p,'min-max_rw',i)\n",
    "    (X_train,X_test,y_train,y_test) = split_data(df,0.9)\n",
    "    x = traditional_models(X_train, y_train, X_test, y_test)\n",
    "    c = 'wd_'+str(i)\n",
    "    k[c] = x['AUC'].tolist()\n",
    "    k.index = x.index\n",
    "    \n",
    "    "
   ]
  },
  {
   "cell_type": "markdown",
   "metadata": {},
   "source": [
    "### MinMax within Rolling Window\n",
    "Plotting the AUC for different machine learning algorithms"
   ]
  },
  {
   "cell_type": "code",
   "execution_count": 5,
   "metadata": {},
   "outputs": [
    {
     "data": {
      "image/png": "[encoded data removed]",
      "text/plain": [
       "<matplotlib.figure.Figure at 0x1e00689ac88>"
      ]
     },
     "metadata": {},
     "output_type": "display_data"
    }
   ],
   "source": [
    "\n",
    "f = plt.figure(figsize=(12,5))\n",
    "plt.title('Title here!', color='black')\n",
    "k.plot(kind='bar',x=k.index, ax=f.gca())\n",
    "plt.legend(loc='center left', bbox_to_anchor=(1.0, 0.5))\n",
    "plt.show()"
   ]
  },
  {
   "cell_type": "markdown",
   "metadata": {},
   "source": [
    "Using window width of 11 as it gives the best performance"
   ]
  },
  {
   "cell_type": "code",
   "execution_count": 6,
   "metadata": {},
   "outputs": [
    {
     "data": {
      "text/html": [
       "<div>\n",
       "<style scoped>\n",
       "    .dataframe tbody tr th:only-of-type {\n",
       "        vertical-align: middle;\n",
       "    }\n",
       "\n",
       "    .dataframe tbody tr th {\n",
       "        vertical-align: top;\n",
       "    }\n",
       "\n",
       "    .dataframe thead th {\n",
       "        text-align: right;\n",
       "    }\n",
       "</style>\n",
       "<table border=\"1\" class=\"dataframe\">\n",
       "  <thead>\n",
       "    <tr style=\"text-align: right;\">\n",
       "      <th></th>\n",
       "      <th>AUC</th>\n",
       "      <th>Accuracy</th>\n",
       "    </tr>\n",
       "  </thead>\n",
       "  <tbody>\n",
       "    <tr>\n",
       "      <th>LogReg</th>\n",
       "      <td>0.503270</td>\n",
       "      <td>0.585938</td>\n",
       "    </tr>\n",
       "    <tr>\n",
       "      <th>KNN</th>\n",
       "      <td>0.498616</td>\n",
       "      <td>0.531250</td>\n",
       "    </tr>\n",
       "    <tr>\n",
       "      <th>LDA</th>\n",
       "      <td>0.540377</td>\n",
       "      <td>0.546875</td>\n",
       "    </tr>\n",
       "    <tr>\n",
       "      <th>QDA</th>\n",
       "      <td>0.613333</td>\n",
       "      <td>0.617188</td>\n",
       "    </tr>\n",
       "    <tr>\n",
       "      <th>RandomForest</th>\n",
       "      <td>0.417736</td>\n",
       "      <td>0.406250</td>\n",
       "    </tr>\n",
       "    <tr>\n",
       "      <th>ADABoost</th>\n",
       "      <td>0.605535</td>\n",
       "      <td>0.593750</td>\n",
       "    </tr>\n",
       "    <tr>\n",
       "      <th>SVM</th>\n",
       "      <td>0.502390</td>\n",
       "      <td>0.585938</td>\n",
       "    </tr>\n",
       "  </tbody>\n",
       "</table>\n",
       "</div>"
      ],
      "text/plain": [
       "                   AUC  Accuracy\n",
       "LogReg        0.503270  0.585938\n",
       "KNN           0.498616  0.531250\n",
       "LDA           0.540377  0.546875\n",
       "QDA           0.613333  0.617188\n",
       "RandomForest  0.417736  0.406250\n",
       "ADABoost      0.605535  0.593750\n",
       "SVM           0.502390  0.585938"
      ]
     },
     "execution_count": 6,
     "metadata": {},
     "output_type": "execute_result"
    }
   ],
   "source": [
    "df = data_normalization(p,'min-max_rw',11)\n",
    "(X_train,X_test,y_train,y_test) = split_data(df,0.9)\n",
    "x = traditional_models(X_train, y_train, X_test, y_test)\n",
    "x"
   ]
  },
  {
   "cell_type": "markdown",
   "metadata": {},
   "source": [
    "QDA and AdaBoost achieve 60-61% accuracy/AUC"
   ]
  },
  {
   "cell_type": "markdown",
   "metadata": {},
   "source": [
    "## Comparison with other normalization scheme\n",
    "A comparison is done using MinMax without using rolling windows <br>\n",
    "Standardization across the dataset or standardization across rolling windows was also compared with MinMax rolling window, with MinMax rolling window outperforming the rest"
   ]
  },
  {
   "cell_type": "markdown",
   "metadata": {},
   "source": [
    "### Using Min-Max\n",
    "Using MinMax without rolling window"
   ]
  },
  {
   "cell_type": "code",
   "execution_count": 7,
   "metadata": {},
   "outputs": [
    {
     "data": {
      "text/html": [
       "<div>\n",
       "<style scoped>\n",
       "    .dataframe tbody tr th:only-of-type {\n",
       "        vertical-align: middle;\n",
       "    }\n",
       "\n",
       "    .dataframe tbody tr th {\n",
       "        vertical-align: top;\n",
       "    }\n",
       "\n",
       "    .dataframe thead th {\n",
       "        text-align: right;\n",
       "    }\n",
       "</style>\n",
       "<table border=\"1\" class=\"dataframe\">\n",
       "  <thead>\n",
       "    <tr style=\"text-align: right;\">\n",
       "      <th></th>\n",
       "      <th>AUC</th>\n",
       "      <th>Accuracy</th>\n",
       "    </tr>\n",
       "  </thead>\n",
       "  <tbody>\n",
       "    <tr>\n",
       "      <th>LogReg</th>\n",
       "      <td>0.435824</td>\n",
       "      <td>0.589147</td>\n",
       "    </tr>\n",
       "    <tr>\n",
       "      <th>KNN</th>\n",
       "      <td>0.450348</td>\n",
       "      <td>0.589147</td>\n",
       "    </tr>\n",
       "    <tr>\n",
       "      <th>LDA</th>\n",
       "      <td>0.615690</td>\n",
       "      <td>0.410853</td>\n",
       "    </tr>\n",
       "    <tr>\n",
       "      <th>QDA</th>\n",
       "      <td>0.601043</td>\n",
       "      <td>0.426357</td>\n",
       "    </tr>\n",
       "    <tr>\n",
       "      <th>RandomForest</th>\n",
       "      <td>0.454568</td>\n",
       "      <td>0.449612</td>\n",
       "    </tr>\n",
       "    <tr>\n",
       "      <th>ADABoost</th>\n",
       "      <td>0.544191</td>\n",
       "      <td>0.589147</td>\n",
       "    </tr>\n",
       "    <tr>\n",
       "      <th>SVM</th>\n",
       "      <td>0.629096</td>\n",
       "      <td>0.558140</td>\n",
       "    </tr>\n",
       "  </tbody>\n",
       "</table>\n",
       "</div>"
      ],
      "text/plain": [
       "                   AUC  Accuracy\n",
       "LogReg        0.435824  0.589147\n",
       "KNN           0.450348  0.589147\n",
       "LDA           0.615690  0.410853\n",
       "QDA           0.601043  0.426357\n",
       "RandomForest  0.454568  0.449612\n",
       "ADABoost      0.544191  0.589147\n",
       "SVM           0.629096  0.558140"
      ]
     },
     "execution_count": 7,
     "metadata": {},
     "output_type": "execute_result"
    }
   ],
   "source": [
    "#Using Min-Max\n",
    "df = data_normalization(p,'min-max')\n",
    "(X_train,X_test,y_train,y_test) = split_data(df,0.9)\n",
    "df_minmax = traditional_models(X_train, y_train, X_test, y_test)\n",
    "df_minmax"
   ]
  },
  {
   "cell_type": "markdown",
   "metadata": {},
   "source": [
    "SVM achieves a 62% AUC on the test set"
   ]
  },
  {
   "cell_type": "markdown",
   "metadata": {},
   "source": [
    "### PCA\n",
    "Using PCA"
   ]
  },
  {
   "cell_type": "code",
   "execution_count": 8,
   "metadata": {},
   "outputs": [
    {
     "data": {
      "text/html": [
       "<div>\n",
       "<style scoped>\n",
       "    .dataframe tbody tr th:only-of-type {\n",
       "        vertical-align: middle;\n",
       "    }\n",
       "\n",
       "    .dataframe tbody tr th {\n",
       "        vertical-align: top;\n",
       "    }\n",
       "\n",
       "    .dataframe thead th {\n",
       "        text-align: right;\n",
       "    }\n",
       "</style>\n",
       "<table border=\"1\" class=\"dataframe\">\n",
       "  <thead>\n",
       "    <tr style=\"text-align: right;\">\n",
       "      <th></th>\n",
       "      <th>AUC</th>\n",
       "      <th>Accuracy</th>\n",
       "    </tr>\n",
       "  </thead>\n",
       "  <tbody>\n",
       "    <tr>\n",
       "      <th>LogReg</th>\n",
       "      <td>0.588381</td>\n",
       "      <td>0.589147</td>\n",
       "    </tr>\n",
       "    <tr>\n",
       "      <th>KNN</th>\n",
       "      <td>0.594464</td>\n",
       "      <td>0.573643</td>\n",
       "    </tr>\n",
       "    <tr>\n",
       "      <th>LDA</th>\n",
       "      <td>0.623138</td>\n",
       "      <td>0.612403</td>\n",
       "    </tr>\n",
       "    <tr>\n",
       "      <th>QDA</th>\n",
       "      <td>0.593347</td>\n",
       "      <td>0.550388</td>\n",
       "    </tr>\n",
       "    <tr>\n",
       "      <th>RandomForest</th>\n",
       "      <td>0.456802</td>\n",
       "      <td>0.480620</td>\n",
       "    </tr>\n",
       "    <tr>\n",
       "      <th>ADABoost</th>\n",
       "      <td>0.548411</td>\n",
       "      <td>0.511628</td>\n",
       "    </tr>\n",
       "    <tr>\n",
       "      <th>SVM</th>\n",
       "      <td>0.578203</td>\n",
       "      <td>0.565891</td>\n",
       "    </tr>\n",
       "  </tbody>\n",
       "</table>\n",
       "</div>"
      ],
      "text/plain": [
       "                   AUC  Accuracy\n",
       "LogReg        0.588381  0.589147\n",
       "KNN           0.594464  0.573643\n",
       "LDA           0.623138  0.612403\n",
       "QDA           0.593347  0.550388\n",
       "RandomForest  0.456802  0.480620\n",
       "ADABoost      0.548411  0.511628\n",
       "SVM           0.578203  0.565891"
      ]
     },
     "execution_count": 8,
     "metadata": {},
     "output_type": "execute_result"
    }
   ],
   "source": [
    "\n",
    "df = data_normalization(p,'min-max')\n",
    "(X_train,X_test,y_train,y_test) = split_data(df,0.9)\n",
    "pca = PCA(n_components=5)\n",
    "X_train_pca = pca.fit(X_train).transform(X_train)\n",
    "X_test_pca = pca.fit(X_test).transform(X_test)\n",
    "res_pca = traditional_models(X_train_pca,y_train,X_test_pca,y_test)\n",
    "res_pca"
   ]
  },
  {
   "cell_type": "markdown",
   "metadata": {},
   "source": [
    "## Neural network based approach\n",
    "Used feed forward and LSTM.<br>\n",
    "Used different number of layers for iteration with MinMax normalization across varios window sizes"
   ]
  },
  {
   "cell_type": "code",
   "execution_count": 9,
   "metadata": {},
   "outputs": [],
   "source": [
    "##Feedforward Model\n",
    "def make_model(num_nodes,num_layers,batch_size,epch,train_set,y_train,test_set,y_test):\n",
    "    num_layers = num_layers-1\n",
    "    model = Sequential()\n",
    "    model.add(Dense(num_nodes, input_dim=train_set.shape[1], activation='relu'))\n",
    "    for i in range(num_layers):\n",
    "        model.add(Dense(num_nodes, activation='relu'))\n",
    "    model.add(Dense(1, activation='sigmoid'))\n",
    "    model.compile(optimizer=Adam(lr=0.001), loss='binary_crossentropy', metrics=['accuracy'])\n",
    "    #p = model.fit(train_set, y_train,  epochs=epch, batch_size=batch_size, validation_data=(test_set, y_test),verbose=False)\n",
    "    return model"
   ]
  },
  {
   "cell_type": "code",
   "execution_count": 10,
   "metadata": {},
   "outputs": [],
   "source": [
    "#Feedforward NN\n",
    "#Using rolling-window normalization\n",
    "window = 11\n",
    "df = data_normalization(p,'min-max_rw',window)\n",
    "(X_train,X_test,y_train,y_test) = split_data(df,0.9)\n",
    "train_set = X_train.as_matrix()\n",
    "test_set = X_test.as_matrix()\n",
    "\n",
    "x = make_model(50,4,32,250,train_set,y_train,test_set,y_test)\n",
    "history = x.fit(train_set,y_train,epochs=100, validation_data=(test_set, y_test), verbose=False,\n",
    "      callbacks = [keras.callbacks.EarlyStopping(monitor='val_loss', min_delta=0.1, patience=20, verbose=0, mode='min'),\n",
    "                   keras.callbacks.ModelCheckpoint(model_path,monitor='val_loss', save_best_only=True, mode='min', verbose=0)]\n",
    "     )"
   ]
  },
  {
   "cell_type": "code",
   "execution_count": 11,
   "metadata": {},
   "outputs": [
    {
     "data": {
      "text/plain": [
       "<matplotlib.legend.Legend at 0x1e00a03e160>"
      ]
     },
     "execution_count": 11,
     "metadata": {},
     "output_type": "execute_result"
    },
    {
     "data": {
      "image/png": "[encoded data removed]",
      "text/plain": [
       "<matplotlib.figure.Figure at 0x1e006e8dbe0>"
      ]
     },
     "metadata": {},
     "output_type": "display_data"
    }
   ],
   "source": [
    "plt.plot(history.history['acc'],label='training')\n",
    "plt.plot(history.history['val_acc'],label='test')\n",
    "plt.title(\"NN Feed Forward\")\n",
    "plt.xlabel('Accuracy')\n",
    "plt.ylabel('Epochs')\n",
    "plt.legend()"
   ]
  },
  {
   "cell_type": "markdown",
   "metadata": {},
   "source": [
    "### LSTM\n",
    "MinMax and standardization within varios window sizes was tried<br>\n",
    "Used parameters that achieved maximum accuracy"
   ]
  },
  {
   "cell_type": "code",
   "execution_count": 12,
   "metadata": {},
   "outputs": [],
   "source": [
    "#LSTM\n",
    "#Min-Max rolling window\n",
    "def gen_sequence(id_df, seq_length, seq_cols):\n",
    "    scaler = MinMaxScaler()\n",
    "    data_matrix = id_df[seq_cols].values\n",
    "    enc_x = np.zeros((len(id_df)-seq_length+1, seq_length, len(seq_cols)))\n",
    "    num_elements = id_df.shape[0]\n",
    "    for start, stop in zip(range(0, num_elements-seq_length+1), range(seq_length, num_elements+1)):\n",
    "        enc_x[start] = scaler.fit_transform(data_matrix[start:stop, :])\n",
    "        #Try standardizing\n",
    "        #x = data_matrix[start:stop, :]\n",
    "        #enc_x[start] = (x - x.mean()) / (x.max() - x.min())\n",
    "    \n",
    "    return enc_x"
   ]
  },
  {
   "cell_type": "code",
   "execution_count": 24,
   "metadata": {},
   "outputs": [
    {
     "name": "stdout",
     "output_type": "stream",
     "text": [
      "Training Set\n",
      "(1156, 2, 25)\n",
      "(1156, 1)\n",
      "Test Set\n",
      "(129, 2, 25)\n",
      "(129, 1)\n"
     ]
    }
   ],
   "source": [
    "sequence_length = 2\n",
    "c = p.columns.tolist()\n",
    "c.remove('y')\n",
    "seq_cols = c\n",
    "X_dat = gen_sequence(p, sequence_length, seq_cols)\n",
    "y = p['y'].values.reshape(-1,1)\n",
    "y_dat = y[sequence_length-1:,]\n",
    "\n",
    "#90% for training and 10% for testing\n",
    "prop = 0.9\n",
    "lm = int(np.floor(len(X_dat) * prop))\n",
    "X_train = X_dat[0:lm]\n",
    "X_test = y_dat[0:lm]\n",
    "y_train = X_dat[lm:]\n",
    "y_test = y_dat[lm:]\n",
    "print(\"Training Set\")\n",
    "print(X_train.shape)\n",
    "print(X_test.shape)\n",
    "print(\"Test Set\")\n",
    "print(y_train.shape)\n",
    "print(y_test.shape)"
   ]
  },
  {
   "cell_type": "code",
   "execution_count": 25,
   "metadata": {},
   "outputs": [
    {
     "name": "stdout",
     "output_type": "stream",
     "text": [
      "_________________________________________________________________\n",
      "Layer (type)                 Output Shape              Param #   \n",
      "=================================================================\n",
      "lstm_10 (LSTM)               (None, 2, 10)             1440      \n",
      "_________________________________________________________________\n",
      "dropout_10 (Dropout)         (None, 2, 10)             0         \n",
      "_________________________________________________________________\n",
      "lstm_11 (LSTM)               (None, 2, 50)             12200     \n",
      "_________________________________________________________________\n",
      "dropout_11 (Dropout)         (None, 2, 50)             0         \n",
      "_________________________________________________________________\n",
      "lstm_12 (LSTM)               (None, 50)                20200     \n",
      "_________________________________________________________________\n",
      "dropout_12 (Dropout)         (None, 50)                0         \n",
      "_________________________________________________________________\n",
      "dense_9 (Dense)              (None, 1)                 51        \n",
      "=================================================================\n",
      "Total params: 33,891\n",
      "Trainable params: 33,891\n",
      "Non-trainable params: 0\n",
      "_________________________________________________________________\n",
      "None\n"
     ]
    }
   ],
   "source": [
    "nb_features = X_train.shape[2]\n",
    "nb_out = X_test.shape[1]\n",
    "\n",
    "model = Sequential()\n",
    "\n",
    "model.add(LSTM(\n",
    "         input_shape=(sequence_length, nb_features),\n",
    "         units=10,\n",
    "         return_sequences=True))\n",
    "model.add(Dropout(0.2))\n",
    "\n",
    "model.add(LSTM(\n",
    "          units=50,\n",
    "          return_sequences=True))\n",
    "model.add(Dropout(0.2))\n",
    "\n",
    "model.add(LSTM(\n",
    "          units=50,\n",
    "          return_sequences=False))\n",
    "model.add(Dropout(0.2))\n",
    "\n",
    "#model.add(TimeDistributed(Dense(units=nb_out, activation='sigmoid')))\n",
    "model.add(Dense(units=nb_out, activation='sigmoid'))\n",
    "model.compile(loss='binary_crossentropy', optimizer='adam', metrics=['accuracy'])\n",
    "\n",
    "print(model.summary())\n",
    "\n"
   ]
  },
  {
   "cell_type": "code",
   "execution_count": 33,
   "metadata": {},
   "outputs": [
    {
     "name": "stdout",
     "output_type": "stream",
     "text": [
      "Train on 1040 samples, validate on 116 samples\n",
      "Epoch 1/100\n",
      " - 0s - loss: 0.6728 - acc: 0.5846 - val_loss: 0.6606 - val_acc: 0.6207\n",
      "Epoch 2/100\n",
      " - 0s - loss: 0.6689 - acc: 0.5894 - val_loss: 0.6655 - val_acc: 0.6034\n",
      "Epoch 3/100\n",
      " - 0s - loss: 0.6671 - acc: 0.5990 - val_loss: 0.6671 - val_acc: 0.5948\n",
      "Epoch 4/100\n",
      " - 0s - loss: 0.6735 - acc: 0.5913 - val_loss: 0.6590 - val_acc: 0.6034\n",
      "Epoch 5/100\n",
      " - 0s - loss: 0.6702 - acc: 0.5673 - val_loss: 0.6602 - val_acc: 0.6293\n",
      "Epoch 6/100\n",
      " - 0s - loss: 0.6670 - acc: 0.5904 - val_loss: 0.6635 - val_acc: 0.6121\n",
      "Epoch 7/100\n",
      " - 0s - loss: 0.6637 - acc: 0.5808 - val_loss: 0.6601 - val_acc: 0.6034\n",
      "Epoch 8/100\n",
      " - 0s - loss: 0.6584 - acc: 0.6173 - val_loss: 0.6643 - val_acc: 0.6466\n",
      "Epoch 9/100\n",
      " - 0s - loss: 0.6583 - acc: 0.6135 - val_loss: 0.6699 - val_acc: 0.5948\n",
      "Epoch 10/100\n",
      " - 0s - loss: 0.6581 - acc: 0.6096 - val_loss: 0.6696 - val_acc: 0.5948\n",
      "Epoch 11/100\n",
      " - 0s - loss: 0.6551 - acc: 0.6096 - val_loss: 0.6905 - val_acc: 0.5431\n",
      "Epoch 12/100\n",
      " - 0s - loss: 0.6485 - acc: 0.6192 - val_loss: 0.6650 - val_acc: 0.6293\n",
      "Epoch 13/100\n",
      " - 0s - loss: 0.6483 - acc: 0.6231 - val_loss: 0.6640 - val_acc: 0.6207\n",
      "Epoch 14/100\n",
      " - 0s - loss: 0.6484 - acc: 0.6250 - val_loss: 0.6641 - val_acc: 0.6293\n",
      "Epoch 15/100\n",
      " - 0s - loss: 0.6482 - acc: 0.6240 - val_loss: 0.6661 - val_acc: 0.6121\n",
      "Epoch 16/100\n",
      " - 0s - loss: 0.6429 - acc: 0.6346 - val_loss: 0.6717 - val_acc: 0.5948\n",
      "Epoch 17/100\n",
      " - 0s - loss: 0.6443 - acc: 0.6260 - val_loss: 0.6868 - val_acc: 0.5431\n",
      "Epoch 18/100\n",
      " - 0s - loss: 0.6556 - acc: 0.6240 - val_loss: 0.6722 - val_acc: 0.5603\n",
      "Epoch 19/100\n",
      " - 0s - loss: 0.6446 - acc: 0.6269 - val_loss: 0.6710 - val_acc: 0.5862\n",
      "Epoch 20/100\n",
      " - 0s - loss: 0.6402 - acc: 0.6442 - val_loss: 0.6670 - val_acc: 0.6121\n",
      "Epoch 21/100\n",
      " - 0s - loss: 0.6320 - acc: 0.6471 - val_loss: 0.6715 - val_acc: 0.5948\n"
     ]
    }
   ],
   "source": [
    "# fit the network\n",
    "history = model.fit(X_train, X_test, epochs=100, validation_split=0.1, verbose=2,\n",
    "          callbacks = [keras.callbacks.EarlyStopping(monitor='val_loss', min_delta=0.2, patience=20, verbose=0, mode='min'),\n",
    "                       keras.callbacks.ModelCheckpoint(model_path,monitor='val_loss', save_best_only=True, mode='min', verbose=0)]\n",
    "          )\n"
   ]
  },
  {
   "cell_type": "code",
   "execution_count": 34,
   "metadata": {},
   "outputs": [
    {
     "data": {
      "text/plain": [
       "<matplotlib.legend.Legend at 0x1e01cac5e10>"
      ]
     },
     "execution_count": 34,
     "metadata": {},
     "output_type": "execute_result"
    },
    {
     "data": {
      "image/png": "[encoded data removed]",
      "text/plain": [
       "<matplotlib.figure.Figure at 0x1e01ca3ecf8>"
      ]
     },
     "metadata": {},
     "output_type": "display_data"
    }
   ],
   "source": [
    "plt.plot(history.history['acc'],label='training')\n",
    "plt.plot(history.history['val_acc'],label='test')\n",
    "plt.title(\"NN LSTM\")\n",
    "plt.xlabel('Accuracy')\n",
    "plt.ylabel('Epochs')\n",
    "plt.legend()"
   ]
  },
  {
   "cell_type": "markdown",
   "metadata": {},
   "source": [
    "## Creating Strong Buy/Sell Signals\n",
    "Using the thresholds of the prediction probability, we can pick the signals that are extreme and choose to trade only on those days <br>\n",
    "Using AdaBoost with a MinMax on 11 day rolling window"
   ]
  },
  {
   "cell_type": "code",
   "execution_count": 35,
   "metadata": {},
   "outputs": [
    {
     "data": {
      "text/plain": [
       "AdaBoostClassifier(algorithm='SAMME.R',\n",
       "          base_estimator=DecisionTreeClassifier(class_weight=None, criterion='gini', max_depth=1.0,\n",
       "            max_features=None, max_leaf_nodes=None,\n",
       "            min_impurity_decrease=0.0, min_impurity_split=None,\n",
       "            min_samples_leaf=1, min_samples_split=2,\n",
       "            min_weight_fraction_leaf=0.0, presort=False, random_state=None,\n",
       "            splitter='best'),\n",
       "          learning_rate=0.05, n_estimators=64, random_state=None)"
      ]
     },
     "execution_count": 35,
     "metadata": {},
     "output_type": "execute_result"
    }
   ],
   "source": [
    "df = data_normalization(p,'min-max_rw',11)\n",
    "(X_train,X_test,y_train,y_test) = split_data(df,0.9)\n",
    "td = [1, 2]\n",
    "trees = [2 ** x for x in range(1, 8)]\n",
    "param_grid = {\"n_estimators\": trees,\n",
    "              \"max_depth\": td,\n",
    "              \"learning_rate\": [0.05]\n",
    "             }\n",
    "\n",
    "p = np.zeros((len(trees) * len(td), 3))\n",
    "k = 0\n",
    "for i in range(0, len(trees)):\n",
    "    for j in range(0, len(td)):\n",
    "        ada = AdaBoostClassifier(base_estimator=DecisionTreeClassifier(max_depth=td[j]),\n",
    "                                 n_estimators=trees[i],\n",
    "                                 learning_rate=.05)\n",
    "        p[k, 0] = trees[i]\n",
    "        p[k, 1] = td[j]\n",
    "        p[k, 2] = np.mean(cross_val_score(ada, X_train, y_train, cv=5))\n",
    "        k = k + 1\n",
    "x = pd.DataFrame(p)\n",
    "x.columns = ['ntree', 'depth', 'cv_score']\n",
    "p = x.ix[x['cv_score'].argmax()]\n",
    "ada = AdaBoostClassifier(base_estimator=DecisionTreeClassifier(max_depth=p[1]),\n",
    "                         n_estimators=int(p[0]), learning_rate = .05)\n",
    "ada.fit(X_train, y_train)"
   ]
  },
  {
   "cell_type": "code",
   "execution_count": 38,
   "metadata": {},
   "outputs": [
    {
     "data": {
      "text/plain": [
       "array([[0.47499161, 0.52500839],\n",
       "       [0.48681939, 0.51318061],\n",
       "       [0.47813685, 0.52186315],\n",
       "       [0.47898666, 0.52101334],\n",
       "       [0.48076006, 0.51923994],\n",
       "       [0.48076006, 0.51923994],\n",
       "       [0.46894497, 0.53105503],\n",
       "       [0.48922332, 0.51077668],\n",
       "       [0.47540481, 0.52459519],\n",
       "       [0.47363315, 0.52636685],\n",
       "       [0.48922332, 0.51077668],\n",
       "       [0.46697753, 0.53302247],\n",
       "       [0.47363315, 0.52636685],\n",
       "       [0.48575869, 0.51424131],\n",
       "       [0.48058308, 0.51941692],\n",
       "       [0.4924195 , 0.5075805 ],\n",
       "       [0.47035087, 0.52964913],\n",
       "       [0.46897867, 0.53102133],\n",
       "       [0.46897867, 0.53102133],\n",
       "       [0.46474075, 0.53525925],\n",
       "       [0.47210609, 0.52789391],\n",
       "       [0.47210609, 0.52789391],\n",
       "       [0.47540481, 0.52459519],\n",
       "       [0.47540481, 0.52459519],\n",
       "       [0.46897867, 0.53102133],\n",
       "       [0.48917482, 0.51082518],\n",
       "       [0.50101874, 0.49898126],\n",
       "       [0.5079827 , 0.4920173 ],\n",
       "       [0.48491886, 0.51508114],\n",
       "       [0.48736572, 0.51263428],\n",
       "       [0.47202311, 0.52797689],\n",
       "       [0.48716657, 0.51283343],\n",
       "       [0.50119973, 0.49880027],\n",
       "       [0.47540481, 0.52459519],\n",
       "       [0.46874647, 0.53125353],\n",
       "       [0.4734007 , 0.5265993 ],\n",
       "       [0.48540632, 0.51459368],\n",
       "       [0.48540632, 0.51459368],\n",
       "       [0.48721506, 0.51278494],\n",
       "       [0.49030639, 0.50969361],\n",
       "       [0.47898666, 0.52101334],\n",
       "       [0.48076006, 0.51923994],\n",
       "       [0.48076006, 0.51923994],\n",
       "       [0.48922332, 0.51077668],\n",
       "       [0.47074848, 0.52925152],\n",
       "       [0.48079384, 0.51920616],\n",
       "       [0.48545838, 0.51454162],\n",
       "       [0.48723333, 0.51276667],\n",
       "       [0.48723333, 0.51276667],\n",
       "       [0.4734007 , 0.5265993 ],\n",
       "       [0.4734007 , 0.5265993 ],\n",
       "       [0.47676375, 0.52323625],\n",
       "       [0.48079384, 0.51920616],\n",
       "       [0.49422928, 0.50577072],\n",
       "       [0.49041072, 0.50958928],\n",
       "       [0.48164306, 0.51835694],\n",
       "       [0.48365001, 0.51634999],\n",
       "       [0.48365001, 0.51634999],\n",
       "       [0.48365001, 0.51634999],\n",
       "       [0.48542458, 0.51457542],\n",
       "       [0.47695514, 0.52304486],\n",
       "       [0.49250382, 0.50749618],\n",
       "       [0.49250382, 0.50749618],\n",
       "       [0.4812043 , 0.5187957 ],\n",
       "       [0.47359942, 0.52640058],\n",
       "       [0.48542458, 0.51457542],\n",
       "       [0.48079384, 0.51920616],\n",
       "       [0.48545838, 0.51454162],\n",
       "       [0.48997153, 0.51002847],\n",
       "       [0.4924195 , 0.5075805 ],\n",
       "       [0.46719111, 0.53280889],\n",
       "       [0.46938817, 0.53061183],\n",
       "       [0.46938817, 0.53061183],\n",
       "       [0.47695514, 0.52304486],\n",
       "       [0.47695514, 0.52304486],\n",
       "       [0.4812043 , 0.5187957 ],\n",
       "       [0.48997153, 0.51002847],\n",
       "       [0.48638937, 0.51361063],\n",
       "       [0.47943298, 0.52056702],\n",
       "       [0.48531972, 0.51468028],\n",
       "       [0.47900186, 0.52099814],\n",
       "       [0.47762622, 0.52237378],\n",
       "       [0.4867024 , 0.5132976 ],\n",
       "       [0.50195045, 0.49804955],\n",
       "       [0.49072805, 0.50927195],\n",
       "       [0.49317615, 0.50682385],\n",
       "       [0.50195045, 0.49804955],\n",
       "       [0.47889392, 0.52110608],\n",
       "       [0.5067919 , 0.4932081 ],\n",
       "       [0.50131929, 0.49868071],\n",
       "       [0.51219321, 0.48780679],\n",
       "       [0.51800801, 0.48199199],\n",
       "       [0.51464019, 0.48535981],\n",
       "       [0.49613784, 0.50386216],\n",
       "       [0.49613784, 0.50386216],\n",
       "       [0.4789709 , 0.5210291 ],\n",
       "       [0.47772826, 0.52227174],\n",
       "       [0.47772826, 0.52227174],\n",
       "       [0.47592205, 0.52407795],\n",
       "       [0.49728413, 0.50271587],\n",
       "       [0.4716298 , 0.5283702 ],\n",
       "       [0.48345095, 0.51654905],\n",
       "       [0.48345095, 0.51654905],\n",
       "       [0.48650327, 0.51349673],\n",
       "       [0.49231206, 0.50768794],\n",
       "       [0.49050249, 0.50949751],\n",
       "       [0.48716657, 0.51283343],\n",
       "       [0.4943397 , 0.5056603 ],\n",
       "       [0.4845234 , 0.5154766 ],\n",
       "       [0.49498599, 0.50501401],\n",
       "       [0.48113979, 0.51886021],\n",
       "       [0.49316141, 0.50683859],\n",
       "       [0.48251621, 0.51748379],\n",
       "       [0.48113979, 0.51886021],\n",
       "       [0.48291376, 0.51708624],\n",
       "       [0.48601003, 0.51398997],\n",
       "       [0.48894183, 0.51105817],\n",
       "       [0.48311281, 0.51688719],\n",
       "       [0.48917482, 0.51082518],\n",
       "       [0.51644853, 0.48355147],\n",
       "       [0.49095039, 0.50904961],\n",
       "       [0.48736572, 0.51263428],\n",
       "       [0.48133879, 0.51866121],\n",
       "       [0.50161298, 0.49838702],\n",
       "       [0.50161298, 0.49838702],\n",
       "       [0.50342304, 0.49657696],\n",
       "       [0.50829787, 0.49170213],\n",
       "       [0.49095039, 0.50904961]])"
      ]
     },
     "execution_count": 38,
     "metadata": {},
     "output_type": "execute_result"
    }
   ],
   "source": [
    "yhat = ada.predict_proba(X_test)\n",
    "yhat"
   ]
  },
  {
   "cell_type": "markdown",
   "metadata": {},
   "source": [
    "We see that there are no extreme probabilities that can be used to find strong buy/sell signals"
   ]
  },
  {
   "cell_type": "markdown",
   "metadata": {},
   "source": [
    "## Conclusion\n",
    "The LSTM and feed forward NN do not increase the accuracy of prediction over traditional methods <br>\n",
    "The traditional models and NNs are barely over the random classification thresholds <br>\n",
    "There are no extreme probabilities of buy/sell signals<br>"
   ]
  }
 ],
 "metadata": {
  "kernelspec": {
   "display_name": "Python 3",
   "language": "python",
   "name": "python3"
  },
  "language_info": {
   "codemirror_mode": {
    "name": "ipython",
    "version": 3
   },
   "file_extension": ".py",
   "mimetype": "text/x-python",
   "name": "python",
   "nbconvert_exporter": "python",
   "pygments_lexer": "ipython3",
   "version": "3.6.4"
  }
 },
 "nbformat": 4,
 "nbformat_minor": 2
}
